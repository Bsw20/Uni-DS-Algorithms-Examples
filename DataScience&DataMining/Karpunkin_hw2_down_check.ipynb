{
 "cells": [
  {
   "cell_type": "code",
   "execution_count": 1,
   "id": "533f9036",
   "metadata": {},
   "outputs": [],
   "source": [
    "class TestnetAddress:\n",
    "    mainnet_url = \"https://mainnet.infura.io/v3/f406ecf174e14211925011aac8d55cf6\"\n",
    "    goerli_url = \"https://goerli.infura.io/v3/f406ecf174e14211925011aac8d55cf6\"\n",
    "    sepolia_url = \"https://goerli.infura.io/v3/f406ecf174e14211925011aac8d55cf6\"\n",
    "    \n",
    "    ganache_url = \"http://127.0.0.1:7545\""
   ]
  },
  {
   "cell_type": "code",
   "execution_count": 6,
   "id": "0a5915b2",
   "metadata": {
    "scrolled": true
   },
   "outputs": [
    {
     "name": "stdout",
     "output_type": "stream",
     "text": [
      "\n",
      "Ethereum testnet:\n",
      "1. mainnet\n",
      "2. goerli\n",
      "3. sepolia\n",
      "4. ganache\n",
      "\n",
      "Enter: 4\n",
      "Connected to Testnet: True\n"
     ]
    }
   ],
   "source": [
    "from web3 import Web3\n",
    "# TASK 1 (иногда подключается почему-то со второго раза, если в первый раз вылетел false - повторить попытку нужно)\n",
    "print('''\n",
    "Ethereum testnet:\n",
    "1. mainnet\n",
    "2. goerli\n",
    "3. sepolia\n",
    "4. ganache\n",
    "'''\n",
    ")\n",
    "testnet_number = input(\"Enter: \")\n",
    "\n",
    "if testnet_number == '1':\n",
    "    testnet_url = TestnetAddress.mainnet_url\n",
    "    \n",
    "elif testnet_number == '2':\n",
    "    testnet_url = TestnetAddress.goerli_url\n",
    "    \n",
    "elif testnet_number == '3':\n",
    "    testnet_url = TestnetAddress.sepolia_url\n",
    "\n",
    "elif testnet_number == '4':\n",
    "    testnet_url = TestnetAddress.ganache_url\n",
    "    \n",
    "\n",
    "web3_test = Web3(Web3.HTTPProvider(testnet_url))\n",
    "print(\"Connected to Testnet:\",web3_test.isConnected())"
   ]
  },
  {
   "cell_type": "code",
   "execution_count": null,
   "id": "5060f08a",
   "metadata": {},
   "outputs": [],
   "source": [
    "#-----"
   ]
  },
  {
   "cell_type": "code",
   "execution_count": 7,
   "id": "fcebfd6e",
   "metadata": {},
   "outputs": [
    {
     "name": "stdout",
     "output_type": "stream",
     "text": [
      "Transaction link: https://goerli.etherscan.io/tx/0x983d454e1c3475a7c8ccf477955a0b99c0e2d25ecad001fc93d58c75f5aad4cd\n"
     ]
    }
   ],
   "source": [
    "# TASK 2\n",
    "# Получил монеты из крана https://goerli-faucet.pk910.de \n",
    "print(\"Transaction link: https://goerli.etherscan.io/tx/0x983d454e1c3475a7c8ccf477955a0b99c0e2d25ecad001fc93d58c75f5aad4cd\")"
   ]
  },
  {
   "cell_type": "code",
   "execution_count": 8,
   "id": "f8b9d194",
   "metadata": {},
   "outputs": [],
   "source": [
    "# -----"
   ]
  },
  {
   "cell_type": "code",
   "execution_count": 9,
   "id": "53312e9d",
   "metadata": {},
   "outputs": [
    {
     "name": "stdout",
     "output_type": "stream",
     "text": [
      "Connected to goerli: True\n"
     ]
    }
   ],
   "source": [
    "# TASK 3\n",
    "web3 = Web3(Web3.HTTPProvider(TestnetAddress.goerli_url))\n",
    "print(\"Connected to goerli:\",web3.isConnected())"
   ]
  },
  {
   "cell_type": "code",
   "execution_count": 10,
   "id": "4054f7d9",
   "metadata": {},
   "outputs": [],
   "source": [
    "from solcx import install_solc\n",
    "install_solc(version='latest')\n",
    "from solcx import compile_source"
   ]
  },
  {
   "cell_type": "code",
   "execution_count": 11,
   "id": "a6abba86",
   "metadata": {},
   "outputs": [],
   "source": [
    "class LocalAccount:\n",
    "    def __init__(self, web3, private_key, public_key):\n",
    "        self.web3 = web3\n",
    "        self.private_key = private_key\n",
    "        self.public_key = public_key\n",
    "    \n",
    "    def get_balance_in_wei(self):\n",
    "        return web3.eth.getBalance(self.public_key)\n",
    "    \n",
    "    def get_balance_in_ethers(self):\n",
    "        return self.get_balance_in_wei()/10**18\n",
    "    \n",
    "    def transfer(self, to_account_public_key, ether_value):\n",
    "        nonce = web3.eth.getTransactionCount(self.public_key)\n",
    "        tx = {\n",
    "            'nonce': nonce,\n",
    "            'to': to_account_public_key,\n",
    "            'value': web3.toWei(ether_value, 'ether'),\n",
    "            'gas': 200000,\n",
    "            'gasPrice': web3.toWei('50', 'gwei')\n",
    "        }\n",
    "        signed_tx = web3.eth.account.sign_transaction(tx, self.private_key)\n",
    "        tx_hash = web3.eth.sendRawTransaction(signed_tx.rawTransaction)\n",
    "        return web3.toHex(tx_hash)\n",
    "    \n",
    "    def deploy_contract(self, string_contract):\n",
    "        compiled_sol = compile_source(\n",
    "            string_contract,\n",
    "            output_values = ['abi', 'bin']\n",
    "        )\n",
    "        contract_id, contract_interface = compiled_sol.popitem()\n",
    "        bytecode = contract_interface['bin']\n",
    "        abi = contract_interface['abi']\n",
    "        \n",
    "        \n",
    "        contract = web3.eth.contract(abi=abi, bytecode=bytecode)\n",
    "        nonce = web3.eth.getTransactionCount(self.public_key)\n",
    "        \n",
    "        tx = contract.constructor().buildTransaction({\n",
    "            'from': self.public_key,\n",
    "            'nonce': nonce\n",
    "           # 'gas': 6721975, # from truffle docs\n",
    "            #'gasPrice': 100000000000 # from truffle docs\n",
    "        })\n",
    "        \n",
    "        signed_tx = web3.eth.account.sign_transaction(tx, self.private_key)\n",
    "        tx_hash = web3.eth.sendRawTransaction(signed_tx.rawTransaction)\n",
    "        \n",
    "        tx_receipt = web3.eth.waitForTransactionReceipt(tx_hash)\n",
    "        print(\"Contract deployed at address: {}\".format(tx_receipt.contractAddress))\n",
    "        \n",
    "        deployed_contract = web3.eth.contract(\n",
    "            address = tx_receipt.contractAddress,\n",
    "            abi = abi\n",
    "        )\n",
    "        \n",
    "        return deployed_contract, web3.toHex(tx_hash)\n",
    "        \n"
   ]
  },
  {
   "cell_type": "code",
   "execution_count": 1,
   "id": "aba9b402",
   "metadata": {},
   "outputs": [],
   "source": [
    "account_1_private = \"-\"\n",
    "account_1_public = \"-\"\n",
    "\n",
    "account_2_private = \"-\"\n",
    "account_2_public = \"-\""
   ]
  },
  {
   "cell_type": "code",
   "execution_count": null,
   "id": "67c81320",
   "metadata": {},
   "outputs": [],
   "source": [
    "### pre-requisite\n",
    "account_1 = LocalAccount(web3, account_1_private, account_1_public)\n",
    "account_2 = LocalAccount(web3, account_2_private, account_2_public)\n",
    "print(account_1.public_key)\n",
    "print(account_2.public_key)"
   ]
  },
  {
   "cell_type": "code",
   "execution_count": 14,
   "id": "d42564ce",
   "metadata": {},
   "outputs": [],
   "source": [
    "class Task3BlockchainSolver:\n",
    "    def __init__(self, web3, account):\n",
    "        self.web3 = web3\n",
    "        self.account = account\n",
    "        \n",
    "    def get_block_height(self):\n",
    "        # в задании было написано at any time, поэтому предполагаю, что нужно все же последний блок брать\n",
    "        # т.к. по идее любой height конкретного блока неизменный(в случае, если не будет успешной атаке)\n",
    "        \n",
    "        # в ином случае случае можно использовать \n",
    "        # web3.eth.get_block(hash/number)\n",
    "        return self.web3.eth.block_number\n",
    "    \n",
    "    def get_info_about_last_block(self):\n",
    "        return web3.eth.get_block('latest')\n",
    "    \n",
    "    def get_balance_in_wei(self):\n",
    "        return self.account.get_balance_in_wei()\n",
    "    \n",
    "    def get_balance_in_ethers(self):\n",
    "        return self.account.get_balance_in_ethers()"
   ]
  },
  {
   "cell_type": "code",
   "execution_count": 15,
   "id": "6782f6e5",
   "metadata": {},
   "outputs": [
    {
     "name": "stdout",
     "output_type": "stream",
     "text": [
      "7803846\n",
      "AttributeDict({'baseFeePerGas': 8950684226, 'difficulty': 0, 'extraData': HexBytes('0x'), 'gasLimit': 30000000, 'gasUsed': 14325884, 'hash': HexBytes('0xb96eb5dffbbe69bbeb44810ea3232057c5f6f61e1e3946e9d270e642af08b60b'), 'logsBloom': HexBytes('0x10300909d86520251a851031a1d0060040a9434928011032408130090e284616014d00250201020453300d187484eb614aca098b0a520ac58000428f0126255001435068843d0089ce442b8a0e088666c003c4492d7ef10240b42a0e52904150433510881a0080953160b286180309509c00645440515d40012a8130850820cb0680b2248ca56105095a88039599417a3c7d15a22a88310810842964532144c1e6c52c11c40fde9602c1a8382248360a21b42880120e0331400a1042436ca0a02a69de220291a900741819800c16688e9908002e848362311a498d22c800662018b33509486202104850602981312e1208cc502b1148c1501371230212d02021'), 'miner': '0xc6e2459991BfE27cca6d86722F35da23A1E4Cb97', 'mixHash': HexBytes('0x594ae64d08f18ad2c81d6a397fdb011ce54abbed476c5cc0f1edb5d9915c1d62'), 'nonce': HexBytes('0x0000000000000000'), 'number': 7803846, 'parentHash': HexBytes('0x34971f203d7a955b3773a93a6938bf210a1a9702b12d40c26738ae13b5fd66cf'), 'receiptsRoot': HexBytes('0x3e893fc51460f361b9895e88d480095de801a883365f09a4af98bf15df1d4e73'), 'sha3Uncles': HexBytes('0x1dcc4de8dec75d7aab85b567b6ccd41ad312451b948a7413f0a142fd40d49347'), 'size': 82001, 'stateRoot': HexBytes('0x7e095c55be517db15f2d7c4d7ac85adeb81376dc5b38ea2d9b086cbb5394f3a7'), 'timestamp': 1666288428, 'totalDifficulty': 10790000, 'transactions': [HexBytes('0xfd63a0ad5353ab91362d3cbe2b4d227de20a781bdb11276cf1e13455f1f13734'), HexBytes('0x1d3222e41cea8e76f4086ccc435803099e18ad3e9b6daa6ea3b3ef75e6ecd6da'), HexBytes('0x8f18967c1e35398d8df9cff081a0a4accd7cc359e91b4bcb79368cdbab8b7ce5'), HexBytes('0x13b4cad1420d802c633e9af58d3681b427f30d7684a71b082d7db7549777867f'), HexBytes('0x1891f1aa8878d95cde54e61fbc56346de9c1eeb305a69b2333de0daf3a8ebca5'), HexBytes('0xfb5b6feadcf1636ca0acb6b71fb0301f3d498be0d2a335896a57dc4a561506cb'), HexBytes('0x7d34c441881a8f8dfde2504dd5d9dfda7f8943d2a68514e6dd11a2d2e1956579'), HexBytes('0x125feac1e138dec7b633ccb7cff0242806972013f0c505aa17571a1ef568c44b'), HexBytes('0x39c376ce78164713bf658aca3cf25b638df8f0ca0ca5e6040fee0d40d846ddd2'), HexBytes('0xb71f1bb02a6e17b54323a3b9bb7b7c5ff842b471e714e775bc5d8069ad1438c6'), HexBytes('0x8143dec0d9634cb4759c8bd9f76e6b0fc0d5c1c3abe7d6538934becdadcbf8ed'), HexBytes('0x0d1c0c468f13fdc82eac3fe0342a1e08437981b752385afb4134821c522b1859'), HexBytes('0xd382dc12a03905a274e1f3262b2d4cb2a8b892f38da5af39fa2b58b915348566'), HexBytes('0x416f21f14bb1866297ca7217a3696a5983e9a1f6ae9101ac40e3912e22b7caa6'), HexBytes('0x564ef7c4e525b576c7f9bba846c0b3a8a3f6102aaf10c5cf51462c172bb7e6af'), HexBytes('0xb2a32513d95947f40a2a2e8596854db06b08c43a54dc9a26265d5959d8bab738'), HexBytes('0xa63f62977fac2ae0620eb82b9570997fa7ce4b8634e5ce03b05c047068a16238'), HexBytes('0x95233dae05231b61fccb867554e966950d4dd7485a94e091daee66cab9aab1f8'), HexBytes('0xd07d7c720a7103124026eaaccb80dabad103d335707320b751c0c1a8b3a21d71'), HexBytes('0xd81c8cfaf82445c05517ffd46368be762fe36ab07928fea69bb99a1a5355b537'), HexBytes('0x4e1d88c9f21e4c5770d65b776208360e22504d5e52840e4f7d09251bdab14122'), HexBytes('0x7deca90664b466557ac3735187a525fdb9ea5446f310e1e40973620f6374655a'), HexBytes('0x4505d24daf5b74fc2013ec5db72ee2a180e90871716de315697e1bab42ab0511'), HexBytes('0x3df1a017f7297735710dc400a70c3e1167d74052d294b154b70035d09024a17c'), HexBytes('0x3ff883fca77ff1ec1a728462e5c3d0e5a882d654c37c2c63cd8ed144969d373b'), HexBytes('0xd8af3b6c6064becc01f6bf22570c38d07cee1e4608290b942be72b14abe91cb1'), HexBytes('0xec0b2b714e015118c42d753591f24d07aff46bcba85fd16707c3f70cfe88dc5a'), HexBytes('0xee4b9f3ac4caebbf1ce3555f9fa38764a5e85f3cac89f398c313239aa68ac370'), HexBytes('0x6576a6cd025a8659b3616e8e2af307f1cf2630b4f0b19b6dddaa8de615fb3dcf'), HexBytes('0xa3a4487c5214ccb32dfcb555714516dc66312607b3f053cb7b98ea4fd67c3d0f'), HexBytes('0xa36248242f344369c08e7e76e4ee81adfcf8170b9305d2391799f39da3576ba3'), HexBytes('0x7e91a421fd37ed179f1ddd8a1de0727b99875c315283385040dd705aa95e1e9c'), HexBytes('0x5976d84516ee6613f59805d76f73524de7b76022e5b452344410cf5115777dc4'), HexBytes('0x2b5ac4d18d489a43b952b47b46c46c32137c53579645f3a3010a5d86dffc0d42'), HexBytes('0xd70ed375e9303d77205edc7426dac3f72fab88350e0820ef63223434171caa78'), HexBytes('0x2604a994a25fadaaf75dd9884e893de456522c788ee04b9ecc7977ae22675b03'), HexBytes('0xf8349da32f8d4104ba8ac84efc8422140ad65c3017f8b777a067a96262a456dd'), HexBytes('0x28c18e826bfbbf28bd16e2cd6e106179424f8be47117b439d635db22071c9e00'), HexBytes('0xd013dbfab3a5740c53161b14a578b5f40af63179487ce6853c16c0f1a0659b97'), HexBytes('0xbe009520fd23e8461f107151b388d9250aed90c21e2fe86f3c31b80a8ff8eee0'), HexBytes('0xede7019b3f0b0c56848f6771dc50e9b75ef8c96335caf33deb9dbca3f1c2d4e5'), HexBytes('0x01ce33125b91c83ac8ed3ff4c0cc2c286e92fad993af9a34b478b509040a123f'), HexBytes('0xd7da02ca0d94a95f82c9115939fed3d68b760373479f6095ef0b70d3a4d259a9'), HexBytes('0xecbb6505e390263c40ab266b712fcae133ee378450d2d09674253ec1266dc45f'), HexBytes('0x93a3af7fdce7138f2d5be40d38bc9d040c73c669524a391b7bb83f838e743bab'), HexBytes('0xbaa200a8ca793a027f4e576fdce93e7ff3a13e0f7eda01828d7e48b3a3b4c1dc'), HexBytes('0x09ba1bac083e9ce5e102a473a870e6522cc7ed43f6104aa757e373121e6c1d48'), HexBytes('0x27fb50c3f7626912d59ad1307043f58e96993911d89e37518136fc231eadb457'), HexBytes('0x5347e324b7fd796dcafc9327436095f5f77a422f9c03d221bc52e8ec79afd492'), HexBytes('0xa214538a1ad3b8227f54b1a6d6f5f04b4824c53c94a938cde9899952cbce4824'), HexBytes('0xe76da124dc6314792f7b9746cbee25d194929557515a3dc76d3c7d9fea80297d'), HexBytes('0x8020262644d645f6e2ddd5a41d32d4f60481889e25b229ecf92241d9a238d39c'), HexBytes('0x719ea5593df167edbcc1fc6158e34a40555a2ed470c3b2497370a7432355929e'), HexBytes('0x46524789555bd4f39333dc339f5b9b68e30dfb8e828ab3194952283142a367d2'), HexBytes('0x4d42defbd3ac6380ea159c318a725a8b18f5d80ba793d2ba48b2ace9d460dd97'), HexBytes('0x7e4f11c78da00c3fa08a8ec7e242c156193d1c96dd6d689d8c362fc01492fb39'), HexBytes('0xc37071688d754d466b640d2e7798f40365862da13d3f8a3466382c3f69a99b4b'), HexBytes('0xee63e57c4acddaf7ab75de15b6266b5c06b1d86a9d28f611c9e819de6d480ee6'), HexBytes('0x8a9dc2f1c705a083ac8ad7cc309c937bbeb465e7e915ae4e3fd9281c15182270'), HexBytes('0x95471ef54325427dd7483d7447bc05bb2d69434690347e476f92f0beb5703640'), HexBytes('0x7e1b69c44006023a6fb44db77dd580eba20d10c5ca1f5fc80869e96550a2816f'), HexBytes('0x2aaf996c8f95e1558dd09a0d6f6705134e94e9cbcd6f1913e556a7c48cc8093a'), HexBytes('0xa8b83e5b002b2f2e0de3a39a191e2f5db1e073ed88fc9d6154927dbdcd9d7639'), HexBytes('0x30281e04fb207bd044c9b84f49987448dea991de4eea25b5ce3d9e72d0fae97d'), HexBytes('0x64e3434b12f4561602d0d8af913dd453386e50f05c568d5c6bd4ea1042c4be9d'), HexBytes('0x545bb1521a54e721bd8c7648655961b127e81b7114f875af789777943995c5f0'), HexBytes('0x508af510c7f5da872d0390dae68de3191b1e9d8f135cc2015b2c1063d37979ce'), HexBytes('0x62c98eb8674b932301eaa57f0a6a3d14efac99512d099b0ea750e93a5ca61822'), HexBytes('0x4cbadb42ffccafbe1fefb5f4b561f59bda8e44757871e6d4ee6d31c10dc20f71'), HexBytes('0x0b3dff72a28a47c736363b0cdc2e615c2084b45e02f790c4147c7f07fb8be686'), HexBytes('0x9aab63d96560be5bc485413d0a728973a6c0962b75c119d925cda672992b06b4'), HexBytes('0x511dd1d817d424c57bf7c13e733ffb8d6d93d58b5038cd896b904da05d7cdce4'), HexBytes('0xc65df9e561b64df9d06dc0553a26a93ae566bf09b8fb01d5e8eb036a32f4164e'), HexBytes('0x1ebd0a1ce0b0ca94f7413dc5071dc27709860043558ef6f043861e63e605b3b3'), HexBytes('0x5445fe67b4775ca9f652c98da68513494fad10a0d3e2aa76f4c9b858c6dadabf'), HexBytes('0x0c22929620da6eae2ea8f5542634a262a03e6bead39691c1fdd52f4d23638a3b'), HexBytes('0xbc254bf4fcf1f751315e4c9bb11aefbb69820a24e019cb1c7cf60fc6168eb041'), HexBytes('0x95adb6c6be300ed80cbff00209f8ddf3dbfa15d42672db299ca347600bcb80a6'), HexBytes('0xeadaf69f320e5af83dc32e71295b5fed83525b834491ac69d05fe6a2cce10987'), HexBytes('0x5f13f8a70d30b1ac867509206cc594b07733d5daf2ec21ea4d3624358ad7914e'), HexBytes('0x07c3961fb154804624c53fa6708c16f3e5a5c5b5823e2c1b6b7f869e8260d13c'), HexBytes('0xfee8874bf3edd96d2fc849a3f5d7425d5c9f8de8fcb371f051b62fcb0cd91f94'), HexBytes('0x6249951be6c541a0f7b98e7e51a7b87e402648f19543b6d317aed545d58a5b02'), HexBytes('0x76ca4edff874a7ff41eb3236ce4aa65a664b75166360b7814b4f2ec8bb1e089f'), HexBytes('0xf43dec8f49ab28249f3adc693c5e90a2401ac6940ece6910e698b787cdeeaf78'), HexBytes('0x11f22b88a4b117110e0db457c224febf431952103aeb3465ce8640f5a26cddd1'), HexBytes('0x34370248fbd30789413ecc71b29212d379714987519f4dc0b3453b945521e6b2'), HexBytes('0xf80f3df1d58f35d295a4615581039fd5eab7fb07d5f6aa2086d61e3ae71b873d'), HexBytes('0x8c76802cadeecbd7caf15e8b30a2576c69b61ef660dc919c8618d02e4d37c092'), HexBytes('0x068f51303fd9438bea4127f7627d379d6bab77b785fe6944fea8bed9f9c23e20'), HexBytes('0xd2814c1228011bcbd03b230a6ce5025234da01b59777a4fd9dd4f39e9b121ac1'), HexBytes('0x3593af090a2e11889e36b209e2f7272e7bd18e87b2c21f9f4bd426597d7ad254'), HexBytes('0xa5d17f27e9a7ef65ce7f84d89e162da80d1bd73122e911d017947f88b21f2545'), HexBytes('0xb31a6803f072d3fa950e85f6ea1ce6ae54babbba19b87dab0f57cad26d750a7d'), HexBytes('0xb6b0fd8ba91e13bea5621716a9c2977159f875238761c43dd754f58836e5661d'), HexBytes('0x3cdad60bf68bf63a73140faa1e86824fbf6da303e061f0b818a0b0542c2343a3'), HexBytes('0x43f255b69d21fbf4f1f473b7082b0867cca0677805c0382497f7d82d344eb396'), HexBytes('0x364dbabce99757ac7dc86525ed9f7c67a6b1211214561e7ba4a4388ab5e4637f'), HexBytes('0xd2c506bc89605978ace89f78c971a5e42b2960e343233b75a35a83f9ecfd3b7d'), HexBytes('0x3ec62ab0831670cca7265cc441e64dc32f4c5a66980cbff987c9b98bab218b0b'), HexBytes('0x0adf6ea5de2f152082ad61d20be4d3a72d23bf9e7c2fcc3f2bb3eb83ecc25f6b'), HexBytes('0x8d00b65a1085c2daf63492bc479de750e628abc12556a4eaa13cae84fbe18bdd'), HexBytes('0xb9799778988a07ed5d0d20a1c9dae0db4a0554a4319b0776ac042771ff9b7246'), HexBytes('0x257ec1f4bba3b8c1b6405d62ce0a99ef0cb4a7d465d47b4aff6753fc1a75d44d'), HexBytes('0x7adf84d21eaaeab7e1980858b3611553f41bb426e8eb8b3d7f246caf97b272df'), HexBytes('0xdb5269079950f54d013faa4a15c3c19624dd0d08bfb3f695e88fe30242c63c22'), HexBytes('0xfa8e2ed63694c4de1186266d642487fc128f96089cc7339e0d6db9db98c151ee'), HexBytes('0x6749ab0d82cbebce1d59bc8a5664ff9a88a485b223036444963f6bf92a0b4c97'), HexBytes('0x851a06a3c4c12f00d371ffa228adfac180a31c435a0048dc8780bb54a5bf0f55'), HexBytes('0x13a639a015006ac6b1085ebd093cf4757663615541bf661534d8c725dedb6910'), HexBytes('0x1aebbd2f39b676f12b77262679d71423ba5885733954e1293ac7fb795d060ec7')], 'transactionsRoot': HexBytes('0xf715a38b4d6c8b13b45e5367ea9768815e3fd0a44228d92d4ac8ee17fa4a30b8'), 'uncles': []})\n",
      "310590096447904738 wei\n"
     ]
    },
    {
     "name": "stdout",
     "output_type": "stream",
     "text": [
      "0.31059009644790475 ether\n"
     ]
    }
   ],
   "source": [
    "task3_solver = Task3BlockchainSolver(web3, account_1)\n",
    "print(task3_solver.get_block_height())\n",
    "print(task3_solver.get_info_about_last_block())\n",
    "print(f\"{task3_solver.get_balance_in_wei()} wei\")\n",
    "print(f\"{task3_solver.get_balance_in_ethers()} ether\")"
   ]
  },
  {
   "cell_type": "code",
   "execution_count": null,
   "id": "465282ef",
   "metadata": {},
   "outputs": [],
   "source": [
    "# -----"
   ]
  },
  {
   "cell_type": "code",
   "execution_count": 17,
   "id": "dc0d1907",
   "metadata": {},
   "outputs": [
    {
     "name": "stdout",
     "output_type": "stream",
     "text": [
      "tx hash: 0x8b5c13dd1083d4c08eec204129c18e60784549725ff71f9cc35429ad4c0a470c\n"
     ]
    }
   ],
   "source": [
    "# TASK 4 https://goerli.etherscan.io/tx/0x8b5c13dd1083d4c08eec204129c18e60784549725ff71f9cc35429ad4c0a470c\n",
    "print(f\"tx hash: {account_1.transfer(account_2.public_key, 0.00007)}\")"
   ]
  },
  {
   "cell_type": "code",
   "execution_count": 18,
   "id": "95ecb8c1",
   "metadata": {},
   "outputs": [],
   "source": [
    "# -------"
   ]
  },
  {
   "cell_type": "code",
   "execution_count": 19,
   "id": "895f5d3b",
   "metadata": {},
   "outputs": [
    {
     "name": "stdout",
     "output_type": "stream",
     "text": [
      "Contract deployed at address: 0x4A3B087bF420034decC488Ce69eeC45a24EC3C57\n"
     ]
    }
   ],
   "source": [
    "# Task 5\n",
    "# смарт контракт с функцией сложения\n",
    "task_5_contract = '''\n",
    "// SPDX-License-Identifier: MIT\n",
    "\n",
    "pragma solidity ^0.8.7;\n",
    "\n",
    "contract SummatorContract {\n",
    "    function add(int a, int b) public pure returns(int) {\n",
    "        return a + b;\n",
    "    }\n",
    "}\n",
    "'''\n",
    "\n",
    "task5_deployed_contract, task5_tx_hash = account_1.deploy_contract(task_5_contract)"
   ]
  },
  {
   "cell_type": "code",
   "execution_count": 21,
   "id": "a383498b",
   "metadata": {},
   "outputs": [
    {
     "name": "stdout",
     "output_type": "stream",
     "text": [
      "Contract creation transaction id 0xc2123ccff20fd0a76b9762833840c517cb8eeb14a59ef8a0c6460d6c905fa187\n",
      "Function add(10, 7) result: 17\n",
      "contract address: 0x4A3B087bF420034decC488Ce69eeC45a24EC3C57\n",
      "URL https://goerli.etherscan.io/address/0x4A3B087bF420034decC488Ce69eeC45a24EC3C57\n"
     ]
    }
   ],
   "source": [
    "task5_result = task5_deployed_contract.functions.add(10, 7).call()\n",
    "print(f\"Contract creation transaction id {task5_tx_hash}\")\n",
    "print(f\"Function add(10, 7) result: {task5_result}\")\n",
    "print(f\"contract address: {task5_deployed_contract.address}\")\n",
    "print(\"URL https://goerli.etherscan.io/address/0x4A3B087bF420034decC488Ce69eeC45a24EC3C57\")"
   ]
  },
  {
   "cell_type": "code",
   "execution_count": null,
   "id": "f1c24194",
   "metadata": {},
   "outputs": [],
   "source": [
    "# -------"
   ]
  },
  {
   "cell_type": "code",
   "execution_count": 24,
   "id": "38ced8d0",
   "metadata": {},
   "outputs": [
    {
     "name": "stdout",
     "output_type": "stream",
     "text": [
      "contract creation transaction id: 0xbd3f81379dba36a7852d343b276971dc1c3026f878bb0b34899a7b53b7e4e96f\n",
      "contract address: 0xa580697c849e1899ae15f6887CBD6Ba1f1BB7444\n",
      "letters YKT\n",
      "send 10 tokens transaction 0x9eab226942617ff032bd716002c31cb45f2ad1c4e4b852e9a2bf580ae586b89c\n",
      "send 10 tokens transaction link https://goerli.etherscan.io/tx/0x9eab226942617ff032bd716002c31cb45f2ad1c4e4b852e9a2bf580ae586b89c\n"
     ]
    }
   ],
   "source": [
    "# Task 6\n",
    "# contract code\n",
    "'''\n",
    "// SPDX-License-Identifier: MIT\n",
    "pragma solidity ^0.8.7;\n",
    "\n",
    "import \"@openzeppelin/contracts/token/ERC20/ERC20.sol\";\n",
    "\n",
    "contract DevToken is ERC20{\n",
    "    constructor() ERC20(\"YKToken\", \"YKT\"){\n",
    "        _mint(msg.sender,100*10**18);\n",
    "    }\n",
    "}\n",
    "'''\n",
    "print(f\"contract creation transaction id: 0xbd3f81379dba36a7852d343b276971dc1c3026f878bb0b34899a7b53b7e4e96f\")\n",
    "print(f\"contract address: 0xa580697c849e1899ae15f6887CBD6Ba1f1BB7444\")\n",
    "print(f\"letters YKT\")\n",
    "print(f\"send 10 tokens transaction 0x9eab226942617ff032bd716002c31cb45f2ad1c4e4b852e9a2bf580ae586b89c\")\n",
    "print(f\"send 10 tokens transaction link https://goerli.etherscan.io/tx/0x9eab226942617ff032bd716002c31cb45f2ad1c4e4b852e9a2bf580ae586b89c\")"
   ]
  },
  {
   "cell_type": "code",
   "execution_count": null,
   "id": "7d16c5f3",
   "metadata": {},
   "outputs": [],
   "source": []
  },
  {
   "cell_type": "code",
   "execution_count": null,
   "id": "a1a273f7",
   "metadata": {},
   "outputs": [],
   "source": []
  }
 ],
 "metadata": {
  "kernelspec": {
   "display_name": "Python 3 (ipykernel)",
   "language": "python",
   "name": "python3"
  },
  "language_info": {
   "codemirror_mode": {
    "name": "ipython",
    "version": 3
   },
   "file_extension": ".py",
   "mimetype": "text/x-python",
   "name": "python",
   "nbconvert_exporter": "python",
   "pygments_lexer": "ipython3",
   "version": "3.8.13"
  }
 },
 "nbformat": 4,
 "nbformat_minor": 5
}
