{
 "cells": [
  {
   "cell_type": "markdown",
   "id": "7f41ac71",
   "metadata": {},
   "source": [
    "# HA4: Bitcoin\n",
    "Update: the new deadline is December, 21.\n",
    "\n",
    "The preferable format of the solution is IPython notebook.\n",
    "\n",
    "## Pre-requisite:\n",
    "1. Generate 3 testnet addresses (address_1, address_2, address_3; should start with either m or n)\n",
    "\n",
    "2. From prerequisite 1,  generate 2-3 MultiSignature address (2 e.g. private_keys for {addess_1, address_2, address_3} out of three are required to spend Bitcoins). Note that your 2-3 MultiSignature address will start with 2. You may find https://www.youtube.com/watch?v=v8xKz-JPSOs&list=PLIRHcs7vupAvd18RbDJ0OYe-f_VME9H53&index=21 useful.\n",
    "\n",
    "3. If you face any problems with bitcoin library, try\n",
    "\n",
    "Install version 1.1.39:\n",
    "!pip uninstall bitcoin\n",
    "\n",
    "!pip install bitcoin==1.1.39\n",
    "\n",
    "Or replace bitcoin.* with bitcoin.transaction.* For example,\n",
    "bitcoin.mk_multisig_script(pub_keys,m)-> bitcoin.transaction.mk_multisig_script(pub_keys,m)\n",
    "\n",
    "Or use bitcoinlib (https://github.com/1200wd/bitcoinlib)"
   ]
  },
  {
   "cell_type": "code",
   "execution_count": 1,
   "id": "99f01857",
   "metadata": {},
   "outputs": [],
   "source": [
    "import hashlib\n",
    "import os\n",
    "import hashlib\n",
    "import binascii"
   ]
  },
  {
   "cell_type": "code",
   "execution_count": 2,
   "id": "911f79e7",
   "metadata": {},
   "outputs": [
    {
     "name": "stdout",
     "output_type": "stream",
     "text": [
      "Requirement already satisfied: base58 in d:\\anaconda3\\lib\\site-packages (2.1.1)\n",
      "Requirement already satisfied: bitcoin in d:\\anaconda3\\lib\\site-packages (1.1.42)\n",
      "Requirement already satisfied: ecdsa in d:\\anaconda3\\lib\\site-packages (0.18.0)\n",
      "Requirement already satisfied: six>=1.9.0 in c:\\users\\borya\\appdata\\roaming\\python\\python39\\site-packages (from ecdsa) (1.16.0)\n",
      "Note: you may need to restart the kernel to use updated packages.\n"
     ]
    }
   ],
   "source": [
    "pip install base58 bitcoin ecdsa"
   ]
  },
  {
   "cell_type": "code",
   "execution_count": 3,
   "id": "e4c10eee",
   "metadata": {},
   "outputs": [],
   "source": [
    "import base58\n",
    "import ecdsa\n",
    "import bitcoin\n",
    "from ecdsa import SigningKey, SECP256k1"
   ]
  },
  {
   "cell_type": "code",
   "execution_count": 4,
   "id": "e1f16831",
   "metadata": {},
   "outputs": [
    {
     "name": "stdout",
     "output_type": "stream",
     "text": [
      "Requirement already satisfied: ecdsa in d:\\anaconda3\\lib\\site-packages (0.18.0)\n",
      "Requirement already satisfied: six>=1.9.0 in c:\\users\\borya\\appdata\\roaming\\python\\python39\\site-packages (from ecdsa) (1.16.0)\n",
      "Note: you may need to restart the kernel to use updated packages.\n"
     ]
    }
   ],
   "source": [
    "pip install ecdsa"
   ]
  },
  {
   "cell_type": "code",
   "execution_count": 5,
   "id": "0dc6dd19",
   "metadata": {},
   "outputs": [
    {
     "name": "stdout",
     "output_type": "stream",
     "text": [
      "Requirement already satisfied: PrettyTable in d:\\anaconda3\\lib\\site-packages (3.5.0)\n",
      "Requirement already satisfied: wcwidth in d:\\anaconda3\\lib\\site-packages (from PrettyTable) (0.2.5)\n",
      "Note: you may need to restart the kernel to use updated packages.\n"
     ]
    }
   ],
   "source": [
    "pip install PrettyTable"
   ]
  },
  {
   "cell_type": "code",
   "execution_count": 6,
   "id": "a1cd58ac",
   "metadata": {},
   "outputs": [],
   "source": [
    "from prettytable import PrettyTable"
   ]
  },
  {
   "cell_type": "code",
   "execution_count": 7,
   "id": "8ef60f00",
   "metadata": {},
   "outputs": [
    {
     "name": "stdout",
     "output_type": "stream",
     "text": [
      "Data from the first address\n",
      "+----------------------------+------------------------------------------------------------------------------------------------------------------------------------+\n",
      "|        Discription         |                                                               Value                                                                |\n",
      "+----------------------------+------------------------------------------------------------------------------------------------------------------------------------+\n",
      "|      Private Key, hex      |                                  1acc20597b1a487b1578ed4e08092644c28c55f8f21794bcba7942ceff88187f                                  |\n",
      "|      Public Key, hex       | 04a92d69cdeedc1d359ce623fc2f5240a341882b0cc0d2cc03804fcebce2ecf3ae8d9b125cfe4f4eb79bf94b94c264e95066db9b103c4418c9860f3131f2f1c1c3 |\n",
      "| Compressed Public Key, hex |                                 03a92d69cdeedc1d359ce623fc2f5240a341882b0cc0d2cc03804fcebce2ecf3ae                                 |\n",
      "|  MainNet Address, base58   |                                                 1EAx1dKmjknK8vjQy7iiDToGEmhg61wE8                                                  |\n",
      "|  Testnet Address, base58   |                                                 mfk8F4iJamC36FQM8Y66Y8g88ENQcBAqJL                                                 |\n",
      "+----------------------------+------------------------------------------------------------------------------------------------------------------------------------+\n",
      "Data from the second address\n",
      "+----------------------------+------------------------------------------------------------------------------------------------------------------------------------+\n",
      "|        Discription         |                                                               Value                                                                |\n",
      "+----------------------------+------------------------------------------------------------------------------------------------------------------------------------+\n",
      "|      Private Key, hex      |                                  703e08549d98e426fc94f18ba721ed08f9e30d41b18b2cf7ccbc7bab15d45b16                                  |\n",
      "|      Public Key, hex       | 04a5aa6ac17359ebeeb3843c24ffca8b105f258c8fc3183a6002d462456c2460123c8ea3964c0452972fb3988de951729b5e3a0613d79df5bdf825d024233b8738 |\n",
      "| Compressed Public Key, hex |                                 02a5aa6ac17359ebeeb3843c24ffca8b105f258c8fc3183a6002d462456c246012                                 |\n",
      "|  MainNet Address, base58   |                                                 1AVBQRQq4MhGw2Vztd6771j2bXKyAHcGbz                                                 |\n",
      "|  Testnet Address, base58   |                                                 mq18hUVosP8Xi8yccC4UvvwMTWvg3oX5q2                                                 |\n",
      "+----------------------------+------------------------------------------------------------------------------------------------------------------------------------+\n",
      "Data from the third address\n",
      "+----------------------------+------------------------------------------------------------------------------------------------------------------------------------+\n",
      "|        Discription         |                                                               Value                                                                |\n",
      "+----------------------------+------------------------------------------------------------------------------------------------------------------------------------+\n",
      "|      Private Key, hex      |                                  9a1348a59b0b4e6c84fb75a619465c11106a0c451a5ffb5600bb7dfaa1cf168f                                  |\n",
      "|      Public Key, hex       | 04a36f384e5625081d055e0c8f202571abb482ce8bc7369687857a1266cbcaf462aeeb9b9e930791c9f04ee2c70a343f89dd1b49501eaee0b0cd5e922bc9e6838a |\n",
      "| Compressed Public Key, hex |                                 02a36f384e5625081d055e0c8f202571abb482ce8bc7369687857a1266cbcaf462                                 |\n",
      "|  MainNet Address, base58   |                                                 12b9ZRfoefXjNRdc8TnM45EYGByXk9sdNj                                                 |\n",
      "|  Testnet Address, base58   |                                                 mh76rUknTgxz9Y7Dr2kiszSs8BaEe11ttD                                                 |\n",
      "+----------------------------+------------------------------------------------------------------------------------------------------------------------------------+\n"
     ]
    }
   ],
   "source": [
    "def hashing(a):\n",
    "    first_sha256 = hashlib.sha256(a)\n",
    "    ripemd160 = hashlib.new(\"ripemd160\")\n",
    "    ripemd160.update(first_sha256.digest())\n",
    "    return_0 = ripemd160.digest()\n",
    "    return_1 = bytes.fromhex(\"00\") + ripemd160.digest()\n",
    "    return_2 = bytes.fromhex(\"6f\") + ripemd160.digest()\n",
    "    return return_0, return_1, return_2\n",
    "\n",
    "def checksum(b):\n",
    "    checksum_full = hashlib.sha256(hashlib.sha256(b).digest()).digest()\n",
    "    new_checksum = checksum_full[:4]\n",
    "    return b + new_checksum\n",
    "\n",
    "def to_base58(c):\n",
    "    return base58.b58encode(c).decode('utf-8')\n",
    "\n",
    "def compressed_key(d):\n",
    "    a = d.hex()\n",
    "\n",
    "    if a[-1] == '0' or a[-1] == '2' or a[-1] == '4' or a[-1] == '6' or a[-1] == '8' or a[-1] == 'a' or a[-1] == 'c' or a[-1] == 'e':\n",
    "        return bytes.fromhex(\"02\") + d\n",
    "    \n",
    "    else:\n",
    "        return bytes.fromhex(\"03\") + d\n",
    "    \n",
    "def generate_address(print_output = True):\n",
    "    \n",
    "    private_key = os.urandom(32).hex()\n",
    "    private_key_from_hex = bytes.fromhex(private_key)\n",
    "\n",
    "    import ecdsa\n",
    "    sk = ecdsa.SigningKey.from_string(private_key_from_hex, curve = ecdsa.SECP256k1) \n",
    "\n",
    "\n",
    "    verification_key = sk.verifying_key\n",
    "    public_key = bytes.fromhex(\"04\") + verification_key.to_string()\n",
    "    compressed_public_key = compressed_key(verification_key.to_string())\n",
    "    compressed_public_key_hex = compressed_public_key.hex()[:66]\n",
    "    decoded_pubkey, mainnet_pubkey, testnet_pubkey = hashing(public_key)\n",
    "\n",
    "    checksum_main_pubkey = checksum(mainnet_pubkey)\n",
    "    checksum_test_pubkey = checksum(testnet_pubkey)\n",
    "\n",
    "\n",
    "    main_address = to_base58(checksum_main_pubkey)\n",
    "    test_address = to_base58(checksum_test_pubkey)\n",
    "\n",
    "\n",
    "    if print_output:\n",
    "        x = PrettyTable()\n",
    "        x.field_names = [\"Discription\", \"Value\"]\n",
    "        x.add_row([\"Private Key, hex\", private_key])\n",
    "        x.add_row([\"Public Key, hex\", public_key.hex()])\n",
    "        x.add_row([\"Compressed Public Key, hex\", compressed_public_key_hex])\n",
    "        x.add_row([\"MainNet Address, base58\", main_address])\n",
    "        x.add_row([\"Testnet Address, base58\", test_address])\n",
    "        print(x)\n",
    "    return(private_key, public_key.hex(), compressed_public_key_hex, main_address, test_address)\n",
    "\n",
    "print('Data from the first address')\n",
    "address_data_1 = generate_address()\n",
    "print('Data from the second address')\n",
    "address_data_2 = generate_address()\n",
    "print('Data from the third address')\n",
    "address_data_3 = generate_address()"
   ]
  },
  {
   "cell_type": "code",
   "execution_count": 9,
   "id": "399afdea",
   "metadata": {},
   "outputs": [
    {
     "name": "stdout",
     "output_type": "stream",
     "text": [
      "MultiSig Address: \n",
      " 3DQt2sAPSpiNs2Sjk5kk1DBgz6FZ3M6VeV\n",
      "MultiSig Testnet Address: \n",
      " 2N4y66c6R4HDj4p5HRDNcdAAxCSTiurc825\n",
      "\n",
      "Redeem Script: \n",
      " 522103a92d69cdeedc1d359ce623fc2f5240a341882b0cc0d2cc03804fcebce2ecf3ae2102a5aa6ac17359ebeeb3843c24ffca8b105f258c8fc3183a6002d462456c2460122102a36f384e5625081d055e0c8f202571abb482ce8bc7369687857a1266cbcaf46253ae\n"
     ]
    }
   ],
   "source": [
    "def public_to_test(a):\n",
    "    decoded_address = base58.b58decode(scriptaddress)\n",
    "    address_1 = decoded_address[1:-4]\n",
    "    hex_address = bytes.fromhex(\"C4\") + address_1\n",
    "    checksum_test_multsig = checksum(hex_address)\n",
    "    test_address = to_base58(checksum_test_multsig)\n",
    "    return test_address\n",
    "    \n",
    "def checksum(b):\n",
    "    checksum_full = hashlib.sha256(hashlib.sha256(b).digest()).digest()\n",
    "    new_checksum = checksum_full[:4]\n",
    "    return b + new_checksum\n",
    "\n",
    "def to_base58(c):\n",
    "    return base58.b58encode(c).decode('utf-8')\n",
    "\n",
    "a = 2\n",
    "b = 3\n",
    "pub_keys = [address_data_1[2], address_data_2[2], address_data_3[2]]\n",
    "\n",
    "    \n",
    "rawscript = bitcoin.mk_multisig_script(pub_keys,a)\n",
    "descript = bitcoin.deserialize_script(rawscript)\n",
    "scriptaddress = bitcoin.scriptaddr(rawscript)\n",
    "print(\"MultiSig Address: \\n\", scriptaddress)\n",
    "\n",
    "multisig_adress = public_to_test(scriptaddress)\n",
    "print(\"MultiSig Testnet Address: \\n\", multisig_adress)\n",
    "\n",
    "print(\"\\nRedeem Script: \\n\", rawscript)"
   ]
  },
  {
   "cell_type": "markdown",
   "id": "887308f4",
   "metadata": {},
   "source": [
    "## 1 Task (1 point) \n",
    "Calculate double Hash_256 of your name. Take two inputs from the user, i.e., first name and last name. Concatenate string and take SHA256(SHA256(<first name> <lastname>))."
   ]
  },
  {
   "cell_type": "code",
   "execution_count": 10,
   "id": "b3bea59a",
   "metadata": {},
   "outputs": [
    {
     "name": "stdout",
     "output_type": "stream",
     "text": [
      "After the 1 Hashing: \n",
      "a5cf8ff2a238f6a087727d890e093b076679643e60436e27dcc0dc107240da3b\n",
      "After the 2 Hashing: \n",
      "f2f27716ab6c760a48a83e03474a1bb250e8814c51386f65e1126d55bba28cf5\n"
     ]
    }
   ],
   "source": [
    "from hashlib import sha256\n",
    "my_name = \"Karpunkin Yaroslav\"\n",
    "hashed = sha256(bytes(my_name,encoding='utf-8'))\n",
    "print(f\"After the 1 Hashing: \\n{hashed.hexdigest()}\")\n",
    "my_name_double_hashed = sha256(hashed.digest()).hexdigest()\n",
    "print(f\"After the 2 Hashing: \\n{my_name_double_hashed}\")"
   ]
  },
  {
   "cell_type": "markdown",
   "id": "6ef1a5cd",
   "metadata": {},
   "source": [
    "## Task2 (1 point) \n",
    "Get some testnet Bitcoins to your testnet address_1 from any source. (For example: https://testnet-faucet.mempool.co/, https://coinfaucet.eu/en/btc-testnet/ or search \"bitcoin testnet faucet\"). Provide the Transaction_ID."
   ]
  },
  {
   "cell_type": "code",
   "execution_count": 11,
   "id": "4246b206",
   "metadata": {},
   "outputs": [
    {
     "data": {
      "text/plain": [
       "'mfk8F4iJamC36FQM8Y66Y8g88ENQcBAqJL'"
      ]
     },
     "execution_count": 11,
     "metadata": {},
     "output_type": "execute_result"
    }
   ],
   "source": [
    "address_data_1[-1]"
   ]
  },
  {
   "cell_type": "markdown",
   "id": "51871d4e",
   "metadata": {},
   "source": [
    "We sent 0.01077657 bitcoins to address  \n",
    "mfk8F4iJamC36FQM8Y66Y8g88ENQcBAqJL  \n",
    "\n",
    "tx: 0514812bac079243b65aeb7991bc8446525a331993e760842171e5b00c28d9b0  \n",
    "Send coins back, when you don't need them anymore to the address  \n",
    "\n",
    "mv4rnyY3Su5gjcDNzbMLKBQkBicCtHUtFB  "
   ]
  },
  {
   "cell_type": "markdown",
   "id": "3624409c",
   "metadata": {},
   "source": [
    "Here is Bitcoin Testnet Transaction:  \n",
    "https://live.blockcypher.com/btc-testnet/tx/0514812bac079243b65aeb7991bc8446525a331993e760842171e5b00c28d9b0/"
   ]
  },
  {
   "cell_type": "code",
   "execution_count": 1,
   "id": "dd0ef087",
   "metadata": {
    "executionInfo": {
     "elapsed": 324,
     "status": "ok",
     "timestamp": 1635437862756,
     "user": {
      "displayName": "Алексей Зубарев",
      "photoUrl": "https://lh3.googleusercontent.com/a-/AOh14Gj6cYmDE8a0jHWESCLnhuoXSawjWCQse4RmqK0r=s64",
      "userId": "06732464667613104187"
     },
     "user_tz": -180
    },
    "id": "ZMuR9lEs4Pdh"
   },
   "outputs": [],
   "source": [
    "multisig_adress = \"mfk8F4iJamC36FQM8Y66Y8g88ENQcBAqJL\"\n",
    "multisig_redeem_script = \"522103a92d69cdeedc1d359ce623fc2f5240a341882b0cc0d2cc03804fcebce2ecf3ae2102a5aa6ac17359ebeeb3843c24ffca8b105f258c8fc3183a6002d462456c2460122102a36f384e5625081d055e0c8f202571abb482ce8bc7369687857a1266cbcaf46253ae\"\n",
    "\n",
    "tx = \"0514812bac079243b65aeb7991bc8446525a331993e760842171e5b00c28d9b0\"\n",
    "output_idx = 1\n",
    "output_script = \"027db649a3b298bca1c6de79f5ba590e72fd40ac\"\n",
    "# Первые 6 и последние 4\n",
    "output_script_full = \"76a914027db649a3b298bca1c6de79f5ba590e72fd40ac88ac\"\n",
    "my_name_double_hashed = \"f2f27716ab6c760a48a83e03474a1bb250e8814c51386f65e1126d55bba28cf5\""
   ]
  },
  {
   "cell_type": "markdown",
   "id": "fc4e8a3c",
   "metadata": {
    "id": "QbiCZR2D-qTq"
   },
   "source": [
    "## Task 3 (2 points)\n",
    "Create a new transaction from address_1 and provide Transaction_ID. Make 2 outputs:\n",
    "\n",
    "Output_1 : Some bitcoins to address_2.\n",
    "\n",
    "Output_2: Data transfer with first 4 Bytes double Hash_256 of your name. You send 0 bitcoins in this output.\n",
    "\n",
    "Note. Be aware of small transaction fees. You may find https://blockstream.info/testnet/tx/push useful."
   ]
  },
  {
   "cell_type": "code",
   "execution_count": 2,
   "id": "23ba91c5",
   "metadata": {},
   "outputs": [],
   "source": [
    "def bytewise_reverse(hex_string):\n",
    "    i = 0\n",
    "    reverted_string = []\n",
    "    while i != len(hex_string):\n",
    "        temp_value = hex_string[i] + hex_string[i+1]\n",
    "        reverted_string.append(temp_value)\n",
    "        i = i + 2\n",
    "    reverted_string.reverse()\n",
    "    return ''.join(reverted_string)\n",
    "\n",
    "def doublehash256_txid(a): \n",
    "    temp_bin = binascii.unhexlify(a)\n",
    "    temp_hash = hashlib.sha256(temp_bin).digest()\n",
    "    hash2 = hashlib.sha256(temp_hash).digest()\n",
    "    return str(binascii.hexlify(hash2),\"ascii\")\n",
    "\n",
    "def bitcoin_satoshi_rev_hex(btc):\n",
    "    temp = float(btc) * (10**8)\n",
    "    temp_1 = hex(int(temp))[2:]\n",
    "    temp_2 = bytewise_reverse(str(temp_1).zfill(16))\n",
    "    return temp_2\n",
    "\n",
    "def tx_inputs_tx_id(previous_tx_hash, previous_output_index, previous_output_script):\n",
    "    previous_tx_hash_reversed = bytewise_reverse(previous_tx_hash)\n",
    "    previous_output_index = bytewise_reverse('{:08x}'.format(int(previous_output_index)))\n",
    "    return previous_tx_hash_reversed + previous_output_index + place_holder(previous_output_script) +  'ffffffff'\n",
    "\n",
    "def place_holder(output_script):\n",
    "    size_receiver_1 = hex(int(len(output_script)/2))[2:]\n",
    "    script_Pubkey_prev_op = '76' + 'a9' + size_receiver_1 + output_script + '88' + 'ac'\n",
    "    script_len_1 = hex(int(len(script_Pubkey_prev_op)/2))[2:]\n",
    "    return script_len_1 + script_Pubkey_prev_op\n",
    "\n",
    "def tx_outputs(receiver, value):\n",
    "    if receiver[0] == 'm' or receiver[0] == 'n': \n",
    "        value_in_hex_NYB = bitcoin_satoshi_rev_hex(value)\n",
    "        receiver_address = base58.b58decode(receiver).hex()[2:-8]\n",
    "        size_receiver = hex(int(len(receiver_address)/2))[2:]\n",
    "        locking_Script = '76' + 'a9' + size_receiver + receiver_address + '88' + 'ac'\n",
    "        script_len_2 = hex(int(len(locking_Script)/2))[2:]\n",
    "        return value_in_hex_NYB + script_len_2 + locking_Script\n",
    "    \n",
    "    elif receiver[0] == '2':\n",
    "        value_in_hex_NYB = bitcoin_satoshi_rev_hex(value)\n",
    "        receiver_address = base58.b58decode(receiver).hex()[2:-8]\n",
    "        locking_Script = 'a9' + variableInteger.variable_integer(receiver_address) + receiver_address + '87'\n",
    "        script_len_2 = variableInteger.variable_integer(locking_Script)\n",
    "        return value_in_hex_NYB + script_len_2 + locking_Script\n",
    "    \n",
    "def generate_raw_transaction(previous_tx_hash, previous_output_index, \n",
    "                             previous_output_script, number_of_outputs, \n",
    "                             receivers_btc, output_text = None):\n",
    "    version = 1\n",
    "    version = bytewise_reverse('{:08d}'.format(int(version)))\n",
    "\n",
    "    utxo_ip = '01'\n",
    "    prev_tx_datas = utxo_ip + tx_inputs_tx_id(previous_tx_hash, previous_output_index, previous_output_script)\n",
    "\n",
    "    tx_output = ''\n",
    "    for i in range(0, int(number_of_outputs)):\n",
    "        receiver, value = receivers_btc[i]\n",
    "        if output_text is not None and output_text[0]-1 == i:\n",
    "            tx_output = op_return(output_text[1]) + tx_output\n",
    "        else: \n",
    "            tx_output = tx_outputs(receiver, value) + tx_output\n",
    "    next_output_data = '0' + str(number_of_outputs) + tx_output\n",
    "\n",
    "    locktime = '00000000'\n",
    "    SigHashCode = '01000000'\n",
    "\n",
    "\n",
    "    raw_transaction = version + prev_tx_datas + next_output_data + locktime + SigHashCode\n",
    "    return raw_transaction  \n",
    "\n",
    "def bytes_padding(temp_no):\n",
    "    if len(temp_no)/2 != 0:\n",
    "        return '0' + temp_no\n",
    "    else:\n",
    "        return temp_no\n",
    "        \n",
    "def op_return(data):\n",
    "    value_return = '0'*16\n",
    "    len_data = hex(int(len(data)/2))[2:]\n",
    "    partial_data =  '6a'+ bytes_padding(len_data) + data\n",
    "    return value_return + bytes_padding(hex(int(len(partial_data)/2))[2:]) + partial_data\n",
    "\n",
    "def sign_raw_transaction(tx, private_key):\n",
    "    temp_bin = binascii.unhexlify(tx)\n",
    "    temp_hash = hashlib.sha256(temp_bin).digest()\n",
    "    hash2 = hashlib.sha256(temp_hash).hexdigest()\n",
    "    tx_hash = hashlib.sha256(temp_hash).digest()\n",
    "    signingKey = ecdsa.SigningKey.from_string(bytes.fromhex(private_key), curve=ecdsa.SECP256k1)\n",
    "    SIG = signingKey.sign_digest(tx_hash, sigencode=ecdsa.util.sigencode_der_canonize)\n",
    "    SIG = str(binascii.hexlify(SIG),'ascii')\n",
    "    return SIG\n",
    "\n",
    "def decode_digital_signature(SIG, public_key):\n",
    "    #Variables:\n",
    "    header = SIG[0:2]\n",
    "    Sig_Length = SIG[2:4]\n",
    "    r_integer = SIG[4:6]\n",
    "    r_length = SIG[6:8]\n",
    "    r = SIG[8:8 + 2 * int(r_length,16)]\n",
    "    s_integer = SIG[8 + 2 * int(r_length,16): 10 + 2 * int(r_length,16)]\n",
    "    s_length = SIG[10 + 2 * int(r_length,16): 12 + 2 * int(r_length,16)]\n",
    "    s = SIG[12 + 2 * int(r_length,16):]\n",
    "\n",
    "     #_____DER_SIG_SCRIPT_ENCODER____________\n",
    "    def pushdata(len_r, len_s):\n",
    "        if len_r == '20' and len_s == '20':\n",
    "            return str(47)    \n",
    "        elif len_r == '20' or len_s == '21':\n",
    "            return str(48)\n",
    "        elif len_r == '21' or len_s == '20':\n",
    "            return str(48)\n",
    "        else:\n",
    "            return str(49)\n",
    "\n",
    "    def pubkey_opcode(a):\n",
    "        return hex(int(int(len(a))/2))[2:]\n",
    "\n",
    "    pushdata_opcode = pushdata(r_length, s_length)\n",
    "    sighash_code = '01'\n",
    "    pubkey_pushdata_opcode = pubkey_opcode(public_key)\n",
    "    final_SigScript = pushdata_opcode + header + Sig_Length + r_integer + r_length + r + s_integer + s_length + s + sighash_code + pubkey_pushdata_opcode + public_key\n",
    "    return pubkey_opcode(final_SigScript) + final_SigScript\n",
    "\n",
    "def finalize(tx, sig_script, output_script):\n",
    "    print(output_script)\n",
    "    first = tx[:-8]\n",
    "    idx = first.find(output_script)\n",
    "    idx2 = idx + len(output_script)\n",
    "    print(first[:idx-2])\n",
    "    print(sig_script)\n",
    "    print(first[idx2:])\n",
    "    print()\n",
    "    second = f\"{first[:idx-2]}{sig_script}{first[idx2:]}\"\n",
    "    return second\n",
    "\n",
    "def sign(tx, address_data, output_script_full):\n",
    "    SIG = sign_raw_transaction(tx=tx, private_key=address_data[0])\n",
    "    sig_script = decode_digital_signature(SIG=SIG, public_key=address_data[1])\n",
    "    ready = finalize(tx=tx, sig_script=sig_script, output_script=output_script_full)\n",
    "    return ready"
   ]
  },
  {
   "cell_type": "code",
   "execution_count": 3,
   "id": "7c215c9e",
   "metadata": {},
   "outputs": [
    {
     "ename": "NameError",
     "evalue": "name 'address_data_2' is not defined",
     "output_type": "error",
     "traceback": [
      "\u001b[0;31m---------------------------------------------------------------------------\u001b[0m",
      "\u001b[0;31mNameError\u001b[0m                                 Traceback (most recent call last)",
      "Input \u001b[0;32mIn [3]\u001b[0m, in \u001b[0;36m<cell line: 6>\u001b[0;34m()\u001b[0m\n\u001b[1;32m      3\u001b[0m second_tx_sum \u001b[38;5;241m=\u001b[39m \u001b[38;5;241m0.01\u001b[39m\n\u001b[1;32m      4\u001b[0m third_tx_sum \u001b[38;5;241m=\u001b[39m \u001b[38;5;241m0.005\u001b[39m\n\u001b[1;32m      6\u001b[0m tx_1 \u001b[38;5;241m=\u001b[39m generate_raw_transaction(previous_tx_hash\u001b[38;5;241m=\u001b[39mtx,\n\u001b[1;32m      7\u001b[0m                                 previous_output_index\u001b[38;5;241m=\u001b[39moutput_idx,\n\u001b[1;32m      8\u001b[0m                                 previous_output_script \u001b[38;5;241m=\u001b[39m output_script,\n\u001b[1;32m      9\u001b[0m                                 number_of_outputs\u001b[38;5;241m=\u001b[39m \u001b[38;5;241m2\u001b[39m,\n\u001b[1;32m     10\u001b[0m                                 output_text \u001b[38;5;241m=\u001b[39m (\u001b[38;5;241m2\u001b[39m, my_name_double_hashed[:\u001b[38;5;241m8\u001b[39m]),\n\u001b[1;32m     11\u001b[0m                                 receivers_btc\u001b[38;5;241m=\u001b[39m[\n\u001b[0;32m---> 12\u001b[0m                                               (\u001b[43maddress_data_2\u001b[49m[\u001b[38;5;241m-\u001b[39m\u001b[38;5;241m1\u001b[39m], first_tx_sum),\n\u001b[1;32m     13\u001b[0m                                               (address_data_3[\u001b[38;5;241m-\u001b[39m\u001b[38;5;241m1\u001b[39m], \u001b[38;5;241m0\u001b[39m)\n\u001b[1;32m     14\u001b[0m                                 ]\n\u001b[1;32m     15\u001b[0m                                )\n",
      "\u001b[0;31mNameError\u001b[0m: name 'address_data_2' is not defined"
     ]
    }
   ],
   "source": [
    "issued = 0.0266188 \n",
    "first_tx_sum = 0.00002\n",
    "second_tx_sum = 0.01\n",
    "third_tx_sum = 0.005\n",
    "\n",
    "tx_1 = generate_raw_transaction(previous_tx_hash=tx,\n",
    "                                previous_output_index=output_idx,\n",
    "                                previous_output_script = output_script,\n",
    "                                number_of_outputs= 2,\n",
    "                                output_text = (2, my_name_double_hashed[:8]),\n",
    "                                receivers_btc=[\n",
    "                                              (address_data_2[-1], first_tx_sum),\n",
    "                                              (address_data_3[-1], 0)\n",
    "                                ]\n",
    "                               )"
   ]
  },
  {
   "cell_type": "code",
   "execution_count": 22,
   "id": "bfbe1572",
   "metadata": {},
   "outputs": [
    {
     "name": "stdout",
     "output_type": "stream",
     "text": [
      "tx_1: \n",
      "0100000001b0d9280cb0e571218460e79319335a524684bc9179eb5ab6439207ac2b811405010000001976a914027db649a3b298bca1c6de79f5ba590e72fd40ac88acffffffff020000000000000000066a04f2f27716d0070000000000001976a914680d76b17e681d21388aa6bcd04d91eeb523b89488ac0000000001000000\n"
     ]
    }
   ],
   "source": [
    "print('tx_1: \\n' + tx_1)"
   ]
  },
  {
   "cell_type": "code",
   "execution_count": 23,
   "id": "97a16a53",
   "metadata": {},
   "outputs": [
    {
     "name": "stdout",
     "output_type": "stream",
     "text": [
      "76a914027db649a3b298bca1c6de79f5ba590e72fd40ac88ac\n",
      "0100000001b0d9280cb0e571218460e79319335a524684bc9179eb5ab6439207ac2b81140501000000\n",
      "8a47304402205cd3156ef98982759f356d4ac5bd0af70aa2f04f1602de2f092681d36ca806bb0220185851e909d7004e6a568cbc3a2b4fd32790156875dac3fabb2b906d5e084320014104a92d69cdeedc1d359ce623fc2f5240a341882b0cc0d2cc03804fcebce2ecf3ae8d9b125cfe4f4eb79bf94b94c264e95066db9b103c4418c9860f3131f2f1c1c3\n",
      "ffffffff020000000000000000066a04f2f27716d0070000000000001976a914680d76b17e681d21388aa6bcd04d91eeb523b89488ac00000000\n",
      "\n"
     ]
    }
   ],
   "source": [
    "tx_1_ready = sign(tx_1, address_data_1, output_script_full)"
   ]
  },
  {
   "cell_type": "code",
   "execution_count": 24,
   "id": "81885c13",
   "metadata": {},
   "outputs": [
    {
     "name": "stdout",
     "output_type": "stream",
     "text": [
      "tx_1_ready: \n",
      "0100000001b0d9280cb0e571218460e79319335a524684bc9179eb5ab6439207ac2b811405010000008a47304402205cd3156ef98982759f356d4ac5bd0af70aa2f04f1602de2f092681d36ca806bb0220185851e909d7004e6a568cbc3a2b4fd32790156875dac3fabb2b906d5e084320014104a92d69cdeedc1d359ce623fc2f5240a341882b0cc0d2cc03804fcebce2ecf3ae8d9b125cfe4f4eb79bf94b94c264e95066db9b103c4418c9860f3131f2f1c1c3ffffffff020000000000000000066a04f2f27716d0070000000000001976a914680d76b17e681d21388aa6bcd04d91eeb523b89488ac00000000\n"
     ]
    }
   ],
   "source": [
    "print('tx_1_ready: \\n' + tx_1_ready)"
   ]
  },
  {
   "cell_type": "markdown",
   "id": "b1b86a84",
   "metadata": {
    "id": "wxrksvPVwKxt"
   },
   "source": [
    "https://blockstream.info/testnet/tx/3954b3b61a05356f51ca1577fba11b669618bbd08dcc03cbb8d415b01d1ef4fd\n",
    "Осуществленная тразакция:  \n",
    "https://live.blockcypher.com/btc-testnet/tx/3954b3b61a05356f51ca1577fba11b669618bbd08dcc03cbb8d415b01d1ef4fd/"
   ]
  },
  {
   "cell_type": "markdown",
   "id": "b2f85d53",
   "metadata": {
    "id": "3HVT5fLQ-tZF"
   },
   "source": [
    "## Task 4 \n",
    "From address_2, Send some bitcoins to your 2-of-3 MultiSignature Address."
   ]
  },
  {
   "cell_type": "code",
   "execution_count": 25,
   "id": "ec6ad246",
   "metadata": {},
   "outputs": [],
   "source": [
    "class variableInteger:\n",
    "    def reverse_string_in_pair(a_str_ip):\n",
    "        i = 0\n",
    "        rev_a = []\n",
    "        while i != len(a_str_ip):\n",
    "            temp_value = a_str_ip[i] + a_str_ip[i+1]\n",
    "            rev_a.append(temp_value)\n",
    "            i = i + 2\n",
    "        rev_a.reverse()\n",
    "        return ''.join(rev_a)\n",
    "    \n",
    "    def padding(b):\n",
    "        if int(len(b) % 2) == 0:\n",
    "            return b\n",
    "        else:\n",
    "            return '0' + b\n",
    "    \n",
    "    def variable_integer(a):\n",
    "        if type(a) == int:\n",
    "            temp = a\n",
    "        else:\n",
    "            temp = int(len(a)/2)\n",
    "        \n",
    "        if temp <= int('0xfc',16):\n",
    "            return variableInteger.padding(hex(temp)[2:])\n",
    "        elif temp > int('0xfc',16) and temp <= int('0xffff',16):\n",
    "            return 'fd' +  variableInteger.reverse_string_in_pair(variableInteger.padding(hex(temp)[2:]))\n",
    "        elif temp > int('0xffff',16) and temp <= int('0xffffffff',16):\n",
    "            return 'fe' + variableInteger.reverse_string_in_pair(variableInteger.padding(hex(temp)[2:]))\n",
    "        elif temp > int('0xffffffff',16) and temp <= int('0xffffffffffffffff',16):\n",
    "            return 'ff' + variableInteger.reverse_string_in_pair(variableInteger.padding(hex(temp)[2:]))\n",
    "        \n",
    "def multisig_digital_signature(raw_tx, private_key):\n",
    "    unsigned = raw_tx\n",
    "    \n",
    "    temp_bin = binascii.unhexlify(unsigned)\n",
    "    temp_hash = hashlib.sha256(temp_bin).digest()\n",
    "    tx_hash = hashlib.sha256(temp_hash).digest()\n",
    "    signingkey = ecdsa.SigningKey.from_string(bytes.fromhex(private_key), curve=ecdsa.SECP256k1)\n",
    "    SIG = signingkey.sign_digest(tx_hash, sigencode=ecdsa.util.sigencode_der_canonize)   \n",
    "    temp_sig = str(binascii.hexlify(SIG),'ascii')\n",
    "    return temp_sig     \n",
    "\n",
    "def multisig_reverse_string_in_pair(a_str_ip):\n",
    "    i = 0\n",
    "    rev_a = []\n",
    "    while i != len(a_str_ip):\n",
    "        temp_value = a_str_ip[i] + a_str_ip[i+1]\n",
    "        rev_a.append(temp_value)\n",
    "        i = i + 2\n",
    "    rev_a.reverse()\n",
    "    return ''.join(rev_a)\n",
    "\n",
    "def multisig_bitcoin_satoshi_rev_hex(btc):\n",
    "    temp = float(btc) * (10**8)\n",
    "    temp_1 = hex(int(temp))[2:]\n",
    "    temp_2 = reverse_string_in_pair(str(temp_1).zfill(16))\n",
    "    return temp_2\n",
    "\n",
    "def multisig_tx_inputs_tx_id(previous_tx_hash, previous_output_index):\n",
    "    previous_tx_hash_reversed = reverse_string_in_pair(previous_tx_hash)\n",
    "    previous_output_index = reverse_string_in_pair('{:08d}'.format(int(previous_output_index)))\n",
    "    return previous_tx_hash_reversed + previous_output_index\n",
    "\n",
    "def multisig_redeem_place_holder(redeemScript):\n",
    "    return variableInteger.variable_integer(redeemScript) + redeemScript\n",
    "\n",
    "def multisig_tx_outputs(receiver, value):\n",
    "    if receiver[0] == 'm' or receiver[0] == 'n': \n",
    "        value_in_hex_NYB = bitcoin_satoshi_rev_hex(value)\n",
    "        receiver_address = base58.b58decode(receiver).hex()[2:-8]\n",
    "        locking_Script = '76' + 'a9' + variableInteger.variable_integer(receiver_address) + receiver_address + '88' + 'ac'\n",
    "        script_len_2 = variableInteger.variable_integer(locking_Script)\n",
    "        return value_in_hex_NYB + script_len_2 + locking_Script\n",
    "    \n",
    "    elif receiver[0] == '2':\n",
    "        value_in_hex_NYB = bitcoin_satoshi_rev_hex(value)\n",
    "        receiver_address = base58.b58decode(receiver).hex()[2:-8]\n",
    "        locking_Script = 'a9' + variableInteger.variable_integer(receiver_address) + receiver_address + '87'\n",
    "        script_len_2 = variableInteger.variable_integer(locking_Script)\n",
    "        return value_in_hex_NYB + script_len_2 + locking_Script"
   ]
  },
  {
   "cell_type": "code",
   "execution_count": 26,
   "id": "a9f2b6a8",
   "metadata": {},
   "outputs": [],
   "source": [
    "def mk_multisig_tx(previous_tx_hash, previous_output_index, redeemScript, address_data, value, pr_keys):\n",
    "    sig_loop = 2\n",
    "    version = '01000000'\n",
    "    input_ms = '01' + multisig_tx_inputs_tx_id(previous_tx_hash=previous_tx_hash, \n",
    "                                             previous_output_index = previous_output_index)\n",
    "    redeem_Script = multisig_redeem_place_holder(redeemScript=redeemScript)\n",
    "    tx_input_value = input_ms + redeem_Script + 'f'*8\n",
    "    tx_output = ''\n",
    "    tx_output = multisig_tx_outputs(receiver = address_data[-1], value=value)\n",
    "    next_output_data =  variableInteger.variable_integer(1) + tx_output\n",
    "\n",
    "    locktime = '00000000'\n",
    "    SigHashCode = '01000000'\n",
    "    tx_to_sign = version + tx_input_value + next_output_data + locktime + SigHashCode\n",
    "    print(\"Raw Transaction to Sign:\")\n",
    "    print(tx_to_sign)\n",
    "\n",
    "    signatures = ''\n",
    "    for i in range(2):\n",
    "        signature_temp =  multisig_digital_signature(tx_to_sign, private_key=pr_keys[i]) + '01'\n",
    "        signature_temp_2 = variableInteger.variable_integer(signature_temp) + signature_temp\n",
    "        signatures = signatures + signature_temp_2\n",
    "\n",
    "    SigScript_places = '00' + signatures + '4c' + redeem_Script \n",
    "    SigScript =  variableInteger.variable_integer(SigScript_places) + SigScript_places\n",
    "    print(\"\\nSigScript:\", SigScript)\n",
    "\n",
    "    Broadcasting_transaction = version + input_ms + SigScript + 'f'*8 + next_output_data + locktime\n",
    "    print(\"Transaction for Broadcast:\")\n",
    "    print(Broadcasting_transaction)"
   ]
  },
  {
   "cell_type": "code",
   "execution_count": 27,
   "id": "93444793",
   "metadata": {},
   "outputs": [],
   "source": [
    "tx1_hash = \"3954b3b61a05356f51ca1577fba11b669618bbd08dcc03cbb8d415b01d1ef4fd\"\n",
    "output_idx_1 = 1\n",
    "output_script_1 = \"680d76b17e681d21388aa6bcd04d91eeb523b894\"\n",
    "output_script_1_full= \"76a914680d76b17e681d21388aa6bcd04d91eeb523b89488ac\""
   ]
  },
  {
   "cell_type": "code",
   "execution_count": 28,
   "id": "78ac2f33",
   "metadata": {},
   "outputs": [],
   "source": [
    "tx_2 = generate_raw_transaction(previous_tx_hash=tx1_hash,\n",
    "                                previous_output_index=output_idx_1,\n",
    "                                previous_output_script = output_script_1,\n",
    "                                number_of_outputs= 1,\n",
    "                                receivers_btc=[(multisig_adress, 0.00001)]\n",
    "                               )"
   ]
  },
  {
   "cell_type": "code",
   "execution_count": 29,
   "id": "f8ae86f5",
   "metadata": {},
   "outputs": [
    {
     "name": "stdout",
     "output_type": "stream",
     "text": [
      "76a914680d76b17e681d21388aa6bcd04d91eeb523b89488ac\n",
      "0100000001fdf41e1db015d4b8cb03cc8dd0bb1896661ba1fb7715ca516f35051ab6b3543901000000\n",
      "8a473044022009399170c9a886723f1adaafbecccc11b5fecf98405f9e0b29052d1461fe86d70220299fe8667265684d01405288313252626ec7fe997ac19e54391c06a91a286143014104a5aa6ac17359ebeeb3843c24ffca8b105f258c8fc3183a6002d462456c2460123c8ea3964c0452972fb3988de951729b5e3a0613d79df5bdf825d024233b8738\n",
      "ffffffff01e8030000000000001976a914027db649a3b298bca1c6de79f5ba590e72fd40ac88ac00000000\n",
      "\n"
     ]
    }
   ],
   "source": [
    "tx_2_ready = sign(tx_2, address_data_2, output_script_1_full)"
   ]
  },
  {
   "cell_type": "code",
   "execution_count": 30,
   "id": "699b4676",
   "metadata": {},
   "outputs": [
    {
     "name": "stdout",
     "output_type": "stream",
     "text": [
      "tx_2 is ready: \n",
      "0100000001fdf41e1db015d4b8cb03cc8dd0bb1896661ba1fb7715ca516f35051ab6b35439010000008a473044022009399170c9a886723f1adaafbecccc11b5fecf98405f9e0b29052d1461fe86d70220299fe8667265684d01405288313252626ec7fe997ac19e54391c06a91a286143014104a5aa6ac17359ebeeb3843c24ffca8b105f258c8fc3183a6002d462456c2460123c8ea3964c0452972fb3988de951729b5e3a0613d79df5bdf825d024233b8738ffffffff01e8030000000000001976a914027db649a3b298bca1c6de79f5ba590e72fd40ac88ac00000000\n"
     ]
    }
   ],
   "source": [
    "print('tx_2 is ready: \\n' + tx_2_ready)"
   ]
  },
  {
   "cell_type": "markdown",
   "id": "46ba2410",
   "metadata": {
    "id": "X0dlmCpHGM1w"
   },
   "source": [
    "https://blockstream.info/testnet/tx/aaad7dfcecaf3dc87f4991a68c8be6a7303b09ba0549aeb756753cdf77275a85\n",
    "Осуществленная транзакция:  \n",
    "https://live.blockcypher.com/btc-testnet/tx/aaad7dfcecaf3dc87f4991a68c8be6a7303b09ba0549aeb756753cdf77275a85/"
   ]
  },
  {
   "cell_type": "markdown",
   "id": "5d476b35",
   "metadata": {
    "id": "riMJCBH4-3io"
   },
   "source": [
    "## Task 5 (4 points) \n",
    "From 2-of-3 MultiSignature Address. Send some bitcoins back to address_1.\n",
    "\n"
   ]
  },
  {
   "cell_type": "code",
   "execution_count": 31,
   "id": "a3efe33e",
   "metadata": {},
   "outputs": [],
   "source": [
    "def reverse_string_in_pair(a_str_ip):\n",
    "        i = 0\n",
    "        rev_a = []\n",
    "        while i != len(a_str_ip):\n",
    "            temp_value = a_str_ip[i] + a_str_ip[i+1]\n",
    "            rev_a.append(temp_value)\n",
    "            i = i + 2\n",
    "        rev_a.reverse()\n",
    "        return ''.join(rev_a)"
   ]
  },
  {
   "cell_type": "code",
   "execution_count": 32,
   "id": "376ffce4",
   "metadata": {},
   "outputs": [],
   "source": [
    "tx2_hash = \"aaad7dfcecaf3dc87f4991a68c8be6a7303b09ba0549aeb756753cdf77275a85\"\n",
    "output_idx_2 = 1\n",
    "output_script_2 = \"027db649a3b298bca1c6de79f5ba590e72fd40ac\"\n",
    "output_script_2_full= \"76a914027db649a3b298bca1c6de79f5ba590e72fd40ac88ac\""
   ]
  },
  {
   "cell_type": "markdown",
   "id": "4c12859d",
   "metadata": {},
   "source": [
    "Взял код из семинара 1 в 1, но оно почему-то все равно не завелось нормально, хотя вроде бы все правильно принтит"
   ]
  },
  {
   "cell_type": "code",
   "execution_count": 33,
   "id": "0e08eabd",
   "metadata": {},
   "outputs": [
    {
     "name": "stdout",
     "output_type": "stream",
     "text": [
      "Raw Transaction to Sign:\n",
      "0100000001855a2777df3c7556b7ae4905ba093b30a7e68b8ca691497fc83dafecfc7dadaa0100000069522103a92d69cdeedc1d359ce623fc2f5240a341882b0cc0d2cc03804fcebce2ecf3ae2102a5aa6ac17359ebeeb3843c24ffca8b105f258c8fc3183a6002d462456c2460122102a36f384e5625081d055e0c8f202571abb482ce8bc7369687857a1266cbcaf46253aeffffffff0120a10700000000001976a914027db649a3b298bca1c6de79f5ba590e72fd40ac88ac0000000001000000\n",
      "\n",
      "SigScript: fdfd00483045022100c533740164ceef5c1b7eed131cc74fe46d0d03a698a07a2d1ff960b13a97da3902207d4197a19857a242c9bcca32079c815883c61bf42d5d9c29a9725bb73dbe7cd701473044022040c3b6829d8ee143a25a43d05287fae68492e9e8556e82a3ea1c3c505951b4df02204ad755f43654040e3bd90d981fd22baf51a41c0d7e5304a41b95ab03df1004cc014c69522103a92d69cdeedc1d359ce623fc2f5240a341882b0cc0d2cc03804fcebce2ecf3ae2102a5aa6ac17359ebeeb3843c24ffca8b105f258c8fc3183a6002d462456c2460122102a36f384e5625081d055e0c8f202571abb482ce8bc7369687857a1266cbcaf46253ae\n",
      "Transaction for Broadcast:\n",
      "0100000001855a2777df3c7556b7ae4905ba093b30a7e68b8ca691497fc83dafecfc7dadaa01000000fdfd00483045022100c533740164ceef5c1b7eed131cc74fe46d0d03a698a07a2d1ff960b13a97da3902207d4197a19857a242c9bcca32079c815883c61bf42d5d9c29a9725bb73dbe7cd701473044022040c3b6829d8ee143a25a43d05287fae68492e9e8556e82a3ea1c3c505951b4df02204ad755f43654040e3bd90d981fd22baf51a41c0d7e5304a41b95ab03df1004cc014c69522103a92d69cdeedc1d359ce623fc2f5240a341882b0cc0d2cc03804fcebce2ecf3ae2102a5aa6ac17359ebeeb3843c24ffca8b105f258c8fc3183a6002d462456c2460122102a36f384e5625081d055e0c8f202571abb482ce8bc7369687857a1266cbcaf46253aeffffffff0120a10700000000001976a914027db649a3b298bca1c6de79f5ba590e72fd40ac88ac00000000\n"
     ]
    }
   ],
   "source": [
    "mk_multisig_tx(previous_tx_hash= tx2_hash,\n",
    "               previous_output_index = output_idx_2,\n",
    "                redeemScript=multisig_redeem_script,\n",
    "               address_data=address_data_1, \n",
    "               value=third_tx_sum,\n",
    "               pr_keys = [address_data_1[0], address_data_2[0]] \n",
    ")"
   ]
  }
 ],
 "metadata": {
  "kernelspec": {
   "display_name": "Python 3 (ipykernel)",
   "language": "python",
   "name": "python3"
  },
  "language_info": {
   "codemirror_mode": {
    "name": "ipython",
    "version": 3
   },
   "file_extension": ".py",
   "mimetype": "text/x-python",
   "name": "python",
   "nbconvert_exporter": "python",
   "pygments_lexer": "ipython3",
   "version": "3.8.13"
  }
 },
 "nbformat": 4,
 "nbformat_minor": 5
}
