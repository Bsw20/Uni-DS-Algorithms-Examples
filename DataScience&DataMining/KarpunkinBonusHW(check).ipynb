{
 "cells": [
  {
   "cell_type": "markdown",
   "id": "0739e145",
   "metadata": {},
   "source": [
    "# HA7 (bonus): Consensus and Beyond\n"
   ]
  },
  {
   "cell_type": "markdown",
   "id": "494b6adf",
   "metadata": {},
   "source": [
    "**Problem 1**. In this problem, you are asked to help analyze two buggy implementations of the Dolev-Strong protocol. The correct protocol is listed in [1, page 15].\n",
    "\n",
    "a) (2 points) Lanie is asked to implement the Dolev-Strong protocol for her all-time favorite course on distributed systems. Lanie is absent-minded when implementing the Dolev-Strong protocol. She forgot to check that the batch of r signatures expected in round r must contain the signature from the designated sender. Describe an explicit attack that can break Lanie’s implementation. In your attack, use as few corrupt nodes as possible. Does your attack violate the consistency or validity property?\n",
    "\n",
    "b) (2 points) Another student, Elanna, also made a mistake in her implementation, but a diﬀerent mistake from Lanie. Elanna has a bug in implementing the digital signature scheme. As a result, an attacker can eﬃciently forge signatures of honest players even without their private signing keys. Please describe an attack that breaks Elanna’s Byzantine Broadcast implementation."
   ]
  },
  {
   "cell_type": "markdown",
   "id": "45ecbfb3",
   "metadata": {},
   "source": [
    "**Решение**"
   ]
  },
  {
   "cell_type": "markdown",
   "id": "b1b23d60",
   "metadata": {},
   "source": [
    "***A)***\n",
    "Предположим, что в системе есть три узла: A, B и C. A является отправителем, B — назначенным отправителем, а C — получателем. Предположим, что в первом раунде A отправляет сообщение B и подписывает его. Однако A не включает подпись B в пакет подписей, отправляемых C. B также отправляет сообщение C и подписывает его. C получает два сообщения и проверяет их подписи. C видит, что подпись A действительна, но подпись B отсутствует. Поскольку реализация автора не проверяет, включена ли подпись назначенного отправителя, C принимает сообщение от A как действительное, даже если оно не было подписано назначенным отправителем, т.е. B.\n",
    "В этой атаке для нарушения безопасности системы требовался только один поврежденный узел, узел A.\n",
    "\n",
    "**Атака нарушает свойство валидности протокола Dolev-Strong (не уверен в транскрипте на русский), поскольку получатель принял сообщение, не подписанное назначенным отправителем.**"
   ]
  },
  {
   "cell_type": "markdown",
   "id": "282082dc",
   "metadata": {},
   "source": [
    "***B)***\n",
    "Ошибка автора в реализации схемы цифровой подписи позволяет злоумышленнику подделывать подписи валидных игроков. Предположим, что в системе есть N узлов и k узлов повреждены. Злоумышленник выбирает k + 1 произвольное сообщение и создает соответствующие подписи. Затем злоумышленник отправляет эти k + 1 сообщения и подписи валидным узлам, утверждая, что это сообщения подписаны другими валидными узлами.\n",
    "Поскольку реализация автора не проверяет подлинность подписи, валидные узлы будут транслировать эти сообщения друг другу, не осознавая, что они поддельные. Затем злоумышленник может контролировать сообщения, полученные валидными узлами, и манипулировать поведением системы.\n",
    "\n",
    "Например, предположим, что злоумышленник хочет помешать валидному узлу рассылать определенное сообщение. В этом случае злоумышленник может создать поддельное сообщение с тем же хэшем, что и целевое сообщение, и подписать его открытым ключом валидного узла. Валидный узел получит поддельное сообщение и передаст его, полагая, что оно пришло от него самого. Однако, поскольку злоумышленник контролирует подпись, сообщение не будет принято другими валидными узлами.\n",
    "\n",
    "**Эта атака нарушает свойство достоверности Byzantine Broadcast, поскольку злоумышленник может вводить в систему недопустимые сообщения, которые выглядят как исходящие от валидных узлов.**"
   ]
  },
  {
   "cell_type": "markdown",
   "id": "012defe6",
   "metadata": {},
   "source": [
    "**Problem 2.** (3 points) As a software engineer, Victor is given a task to implement a consensus protocol for a core service of his company. Victor decided to implement the Streamlet protocol. However, his manager told him that it is ok to assume that strictly less than 1/4 of the nodes can be corrupt. (Recall that in the original protocol, we assume that strictly less than 1/3 can be corrupt.) Being an expert on Streamlet, Victor wants to modify the protocol to make use of this stronger assumption in order to maximize system eﬃciency. What is the minimum number of votes we need to notarize a block in this case? (Recall that in the original protocol, we need 2/3 fraction of the nodes to vote to get a notarization.) Please prove consistency [1, page 35]."
   ]
  },
  {
   "cell_type": "markdown",
   "id": "469d96d2",
   "metadata": {},
   "source": [
    "**Решение**"
   ]
  },
  {
   "cell_type": "markdown",
   "id": "ae21ad54",
   "metadata": {},
   "source": [
    "Чтобы максимизировать эффективность протокола при условии, что менее 1/4 узлов могут быть повреждены, мы можем установить трэшхолд подтверждения равным 3/4 вместо исходных 2/3.\n",
    "\n",
    "Для доказательства непротиворечивости(consistency) нам нужно показать, что если два подтвержденных блока имеют одинаковую высоту, то они содержат одни и те же транзакции.\n",
    "\n",
    "Предположим, что есть два подтвержденных блока, B1 и B2, с одинаковой высотой и разными транзакциями.\n",
    "Поскольку B1 и B2 имеют одинаковую высоту, они должны быть подтверждены не менее чем 3/4 узлами сети. Поскольку менее 1/4 узлов могут быть повреждены, как минимум 1/2 узлов(50%+1) подтвердят как B1, так и B2.\n",
    "\n",
    "Рассмотрим два случая:\n",
    "\n",
    "\n",
    "**Узлы, которые подтвердили B1 и B2, одинаковы.**\n",
    "В этом случае, поскольку B1 и B2 имеют разные транзакции, должен быть хотя бы один валидный узел, который подтвердил один блок, но не подтвердил другой. Однако, поскольку этот узел валидный, он должен был подтвердить блок большей высоты, включающий транзакции как B1, так и B2. Это противоречит предположению, что блоки B1 и B2 являются подтвержденными блоками одинаковой высоты.\n",
    "\n",
    "**Узлы, которые подтвердили B1 и B2, разные.**\n",
    "В этом случае, поскольку по крайней мере 1/2 узлов подтвердили оба блока, должен быть хотя бы один узел, который подтвердил один блок, но не подтвердил другой. Поскольку этот узел валидный, он должен подтвердить блок большей высоты, включающий транзакции как B1, так и B2. Это снова противоречит предположению, что B1 и B2 являются подтвержденными блоками одинаковой высоты.\n",
    "\n",
    "**Таким образом, мы показали, что если два подтвержденных блока имеют одинаковую высоту, то они содержат одни и те же транзакции, что доказывает непротиворечивость.**"
   ]
  },
  {
   "cell_type": "markdown",
   "id": "7cda00bd",
   "metadata": {},
   "source": [
    "**Problem 3.** Let n=4207 and e=1463\n",
    "\n",
    "be a public key the RSA algorithm. Let A=2889, B=2197 and C=2977 be encrypted numbers a, b and c.\n",
    "\n",
    "\n",
    "a) (2 points) Check if a * b = c. Breaking the cryptosystem is not allowed!\n",
    "\n",
    "b) (1 point) Break the cryptosystem, decrypt a, b and c. Check if a * b = c."
   ]
  },
  {
   "cell_type": "markdown",
   "id": "e27475b1",
   "metadata": {},
   "source": [
    "**Решение**"
   ]
  },
  {
   "cell_type": "markdown",
   "id": "943c1c50",
   "metadata": {},
   "source": [
    "**A)** \n",
    "1) Обозначим значение алгоритм rsa для конкретного сообщения в виде функции  `encrypt(msg, e, n) == msg^e mod n`=> мы можем представить выражение для проверки(a * b == c) в виде `А^e mod n * B^e mod n == C^e mod n`\n",
    "\n",
    "\n",
    "2) В силу гомоморфности алгоритма RSA относительно умножения(https://ru.wikipedia.org/wiki/Гомоморфное_шифрование#Криптосистема_RSA) мы можем упростить выражение в следующий вид: `(A*B)^e mod n == C^e mod n` \n",
    "\n",
    "3) (A * B) mod n == (2889 * 2197) mod 4207 == 2977 mod n == C\n",
    "\n",
    "4) В силу того, что степени эквивалентны и значения(пункт 3) эквивалентны `(A*B)^e mod n == C^e mod n` ВЕРНО => `А^e mod n * B^e mod n == C^e mod n` ВЕРНО => a * b mod n == c mod n ВЕРНО.\n",
    "\n",
    "**Ответ:** Верно\n"
   ]
  },
  {
   "cell_type": "markdown",
   "id": "3443063d",
   "metadata": {},
   "source": [
    "**B)** "
   ]
  },
  {
   "cell_type": "markdown",
   "id": "8a8e35c5",
   "metadata": {},
   "source": [
    "1) Разложим на простые множители модуль n. n = 4207 = 601 * 7 (использовал онлайн калькулятор для скорости, в целом алгоритм реализуется очень просто, например https://foxford.ru/wiki/informatika/razlozhenie-chisla-na-mnozhiteli-v-python)\n",
    "\n",
    "2) По свойству мультипликативности функции Эйлера посчитаем phi = (p - 1) * (q - 1) = 600 * 6 = 3600\n",
    "\n",
    "3) Вычислим приватный ключ d"
   ]
  },
  {
   "cell_type": "code",
   "execution_count": 15,
   "id": "435bc5ef",
   "metadata": {},
   "outputs": [],
   "source": [
    "e = 1463\n",
    "n = 4207\n",
    "A = 2889\n",
    "B = 2197\n",
    "C = 2977\n",
    "\n",
    "p = 601\n",
    "q = 7\n",
    "\n",
    "phi = 3600"
   ]
  },
  {
   "cell_type": "code",
   "execution_count": 16,
   "id": "366b1cc9",
   "metadata": {},
   "outputs": [
    {
     "name": "stdout",
     "output_type": "stream",
     "text": [
      "Приватный ключ: 1127 \n"
     ]
    }
   ],
   "source": [
    "d = pow(e, -1, phi)\n",
    "print(f\"Приватный ключ: {d} \")"
   ]
  },
  {
   "cell_type": "markdown",
   "id": "344af9ad",
   "metadata": {},
   "source": [
    "4) Проверим эквивалентность"
   ]
  },
  {
   "cell_type": "code",
   "execution_count": 17,
   "id": "2b7b3250",
   "metadata": {},
   "outputs": [
    {
     "name": "stdout",
     "output_type": "stream",
     "text": [
      "a = 17, b = 13, c = 221\n",
      "\n",
      "\n",
      "a * b = 221\n",
      "c = 221\n"
     ]
    }
   ],
   "source": [
    "a = pow(A, d, n)\n",
    "b = pow(B, d, n)\n",
    "c = pow(C, d, n) \n",
    "print(f\"a = {a}, b = {b}, c = {c}\")\n",
    "print(\"\\n\")\n",
    "print(f\"a * b = {(a * b) % n}\\nc = {c % n}\")"
   ]
  },
  {
   "cell_type": "markdown",
   "id": "c2a36f50",
   "metadata": {},
   "source": [
    "Взломав систему мы убедились, что a * b = c"
   ]
  },
  {
   "cell_type": "code",
   "execution_count": null,
   "id": "98ebbecb",
   "metadata": {},
   "outputs": [],
   "source": []
  }
 ],
 "metadata": {
  "kernelspec": {
   "display_name": "Python 3 (ipykernel)",
   "language": "python",
   "name": "python3"
  },
  "language_info": {
   "codemirror_mode": {
    "name": "ipython",
    "version": 3
   },
   "file_extension": ".py",
   "mimetype": "text/x-python",
   "name": "python",
   "nbconvert_exporter": "python",
   "pygments_lexer": "ipython3",
   "version": "3.8.13"
  }
 },
 "nbformat": 4,
 "nbformat_minor": 5
}
