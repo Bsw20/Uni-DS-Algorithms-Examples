{
 "cells": [
  {
   "cell_type": "markdown",
   "metadata": {},
   "source": [
    "# Web-Scraping "
   ]
  },
  {
   "cell_type": "code",
   "execution_count": 5,
   "metadata": {},
   "outputs": [
    {
     "name": "stdout",
     "output_type": "stream",
     "text": [
      "                      __     __,\n",
      "                      \\,`~\"~` /\n",
      "      .-=-.           /    . .\\\n",
      "     / .-. \\          {  =    Y}=\n",
      "    (_/   \\ \\          \\      / \n",
      "           \\ \\        _/`'`'`b\n",
      "            \\ `.__.-'`        \\-._\n",
      "             |            '.__ `'-;_\n",
      "             |            _.' `'-.__)\n",
      "              \\    ;_..-`'/     //  \\\n",
      "              |   /  /   |     //    |\n",
      "              \\  \\ \\__)   \\   //    /\n",
      "               \\__)  \n"
     ]
    }
   ],
   "source": [
    "import requests \n",
    "from bs4 import BeautifulSoup as bs\n",
    "request = requests.get(\"http://placekitten.com/\")\n",
    "kittens = request.text\n",
    "print (kittens[559:1000])"
   ]
  },
  {
   "cell_type": "markdown",
   "metadata": {},
   "source": [
    "## Пример: Download pdf¶"
   ]
  },
  {
   "cell_type": "code",
   "execution_count": 2,
   "metadata": {},
   "outputs": [],
   "source": [
    "o = open(\"press.pdf\",'wb') #откроем файл для записи, в который потом сохраним pdf"
   ]
  },
  {
   "cell_type": "markdown",
   "metadata": {},
   "source": [
    "Cохраняем отчет Евро Парламента. У нас уже есть ссылка на саму pdf, поэтому просто укажем ее. С помощью модуля requests откроем ссылку для скачивания файла."
   ]
  },
  {
   "cell_type": "code",
   "execution_count": 3,
   "metadata": {},
   "outputs": [],
   "source": [
    "url=(\"http://www.europarl.europa.eu/pdfs/news/public/story/20161026STO49002/20161026STO49002_en.pdf\" )\n",
    "release=requests.get(url)"
   ]
  },
  {
   "cell_type": "code",
   "execution_count": 4,
   "metadata": {},
   "outputs": [],
   "source": [
    "#записать файл и закрыть его запись\n",
    "o.write(release.content)\n",
    "o.close()"
   ]
  },
  {
   "cell_type": "markdown",
   "metadata": {},
   "source": [
    "# Задание 1\n",
    "Скачаем все pdf, которые есть на странице с кандидатскими диссертациями НИУ ВШЭ, защищёнными в диссертационном совете по инженерным наукам и прикладной математике. Зайдя на сайт и выбрав необходимые фильтры, получаем следующую страницу, на которой есть инормация о диссертациях: https://www.hse.ru/sci/diss/?author=&chief=&year=&type=1&degree_type=&council=216992532&spec=\n"
   ]
  },
  {
   "cell_type": "code",
   "execution_count": 10,
   "metadata": {},
   "outputs": [
    {
     "name": "stdout",
     "output_type": "stream",
     "text": [
      "['https://www.hse.ru//data/xf/570/883/1539/%D0%94%D0%B8%D1%81%D1%81%D0%B5%D1%80%D1%82%D0%B0%D1%86%D0%B8%D1%8F.pdf', 'https://www.hse.ru//data/xf/023/034/1541/%D0%94%D0%B8%D1%81%D1%81%D0%B5%D1%80%D1%82%D0%B0%D1%86%D0%B8%D1%8F.pdf', 'https://www.hse.ru//data/xf/014/913/1478/%D0%94%D0%B8%D1%81%D1%81%D0%B5%D1%80_%D0%9C%D0%B0%D1%80%D0%BE%D0%BD.pdf', 'https://www.hse.ru//data/xf/076/288/1176/%D0%B4%D0%B8%D1%81%D1%81.pdf', 'https://www.hse.ru//data/xf/730/187/1185/dissertation.pdf', 'https://www.hse.ru//data/xf/479/758/1156/%D0%94%D0%B8%D1%81%D1%81%D0%B5%D1%80%D1%82%D0%B0%D1%86%D0%B8%D1%8F.pdf', 'https://www.hse.ru//data/xf/054/365/1286/%D0%B4%D0%B8%D1%81%D1%81%D0%B5%D1%80%D1%82%D0%B0%D1%86%D0%B8%D1%8F.pdf', 'https://www.hse.ru//data/xf/553/220/1154/1%D0%94%D0%B8%D1%81%D1%81%D0%B5%D1%80%D1%82%D0%B0%D1%86%D0%B8%D1%8F.pdf', 'https://www.hse.ru//data/xf/852/151/1153/%D0%94%D0%B8%D1%81%D1%81%D0%B5%D1%80%D1%82%D0%B0%D1%86%D0%B8%D1%8F%20PhD.pdf', 'https://www.hse.ru//data/xf/713/193/1150/%D0%94%D0%B8%D1%81%D1%81%D0%B5%D1%80%D1%82%D0%B0%D1%86%D0%B8%D1%8F_%D0%98%D0%B2%D0%B0%D0%BD%D0%BE%D0%B2.pdf']\n",
      "10\n"
     ]
    }
   ],
   "source": [
    "#здесь написать решение задания 1\n",
    "items = []\n",
    "page = bs(requests.get(\"https://www.hse.ru/sci/diss/?author=&chief=&year=&type=1&degree_type=&council=216992532&spec=\").text, \"lxml\")\n",
    "for item in page.find_all(\"a\", {\"data-hse-file\": \"PDF\"}):\n",
    "    if item.text == \"Диссертация\":\n",
    "        items += [\"https://www.hse.ru/\" + item[\"href\"]]\n",
    "print(items)"
   ]
  },
  {
   "cell_type": "markdown",
   "metadata": {},
   "source": [
    "# API и XML¶"
   ]
  },
  {
   "cell_type": "markdown",
   "metadata": {},
   "source": [
    "Разные сайты предлагают информацию, которую может легко обрабатывать не только человек, но и другая программа. Это называется API — application program interface. Обычный интерфейс — это способ взаимодействия человека с программой, а API — одной программы с другой. Например, вашего скрипта на Python с удалённым веб-сервером.\n",
    "\n",
    "Для хранения веб-страниц, которые читают люди, используется язык HTML. Для хранения произвольных структурированных данных, которыми обмениваются между собой программы, используются другие языки — в частности, язык XML, похожий на HTML. Вернее было бы сказать, что XML это метаязык, то есть способ описания языков. В отличие от HTML, набор тегов в XML-документе может быть произвольным (и определяется разработчиком конкретного диалекта XML). \n",
    "\n",
    "Для обработки XML-файлов можно использовать пакет Beautiful Soup. Единственное различие — нужно указать дополнительный параметр feautres=\"xml\" при вызове функции BeautifulSoup — чтобы он не искал в документе HTML-теги."
   ]
  },
  {
   "cell_type": "code",
   "execution_count": 11,
   "metadata": {},
   "outputs": [],
   "source": [
    "from bs4 import BeautifulSoup"
   ]
  },
  {
   "cell_type": "code",
   "execution_count": 12,
   "metadata": {},
   "outputs": [],
   "source": [
    "group = \"\"\"<group>\n",
    "<number>134</number>\n",
    "<student>\n",
    "<firstname>Виталий</firstname>\n",
    "<lastname>Иванов</lastname>\n",
    "</student>\n",
    "<student>\n",
    "<firstname>Мария</firstname>\n",
    "<lastname>Петрова</lastname>\n",
    "</student>\n",
    "</group>\"\"\""
   ]
  },
  {
   "cell_type": "code",
   "execution_count": 13,
   "metadata": {},
   "outputs": [
    {
     "name": "stdout",
     "output_type": "stream",
     "text": [
      "<?xml version=\"1.0\" encoding=\"utf-8\"?>\n",
      "<group>\n",
      " <number>\n",
      "  134\n",
      " </number>\n",
      " <student>\n",
      "  <firstname>\n",
      "   Виталий\n",
      "  </firstname>\n",
      "  <lastname>\n",
      "   Иванов\n",
      "  </lastname>\n",
      " </student>\n",
      " <student>\n",
      "  <firstname>\n",
      "   Мария\n",
      "  </firstname>\n",
      "  <lastname>\n",
      "   Петрова\n",
      "  </lastname>\n",
      " </student>\n",
      "</group>\n"
     ]
    }
   ],
   "source": [
    "obj = BeautifulSoup(group, features=\"xml\")\n",
    "print(obj.prettify())"
   ]
  },
  {
   "cell_type": "code",
   "execution_count": 14,
   "metadata": {},
   "outputs": [
    {
     "data": {
      "text/plain": [
       "'134'"
      ]
     },
     "execution_count": 14,
     "metadata": {},
     "output_type": "execute_result"
    }
   ],
   "source": [
    "obj.group.number.string #найти номер группы"
   ]
  },
  {
   "cell_type": "code",
   "execution_count": 23,
   "metadata": {},
   "outputs": [
    {
     "name": "stdout",
     "output_type": "stream",
     "text": [
      "Иванов Виталий\n",
      "Петрова Мария\n"
     ]
    }
   ],
   "source": [
    "#перечислить всех студентов\n",
    "for student in obj.group.findAll('student'):\n",
    "    print(student.lastname.string, student.firstname.string)"
   ]
  },
  {
   "cell_type": "markdown",
   "metadata": {},
   "source": [
    "При работе с API мы обращаемся к специальной веб-странице по специальному адресу и передаём запрос."
   ]
  },
  {
   "cell_type": "markdown",
   "metadata": {},
   "source": [
    "## Пример: список статей из категории в Википедии"
   ]
  },
  {
   "cell_type": "markdown",
   "metadata": {},
   "source": [
    "Допустим, нам потребовалось получить список всех статей из некоторой категории в Википедии. Мы могли бы открыть эту категорию в браузере и дальше использовать обычный веб-скреппинг. Однако разработчики Википедии сделали удобное API. Чтобы научиться с ним работать, придётся познакомиться с документацией (так будет с любым API). \n",
    "Пример: https://www.mediawiki.org/wiki/API:Categorymembers\n",
    "\n",
    "\n",
    "Взаимодействие с сервером при помощи API происходит с помощью отправки специальным образом сформированных запросов и получения ответа в одном из машинночитаемых форматов. Сейчас нас будет интересовать формат XML. \n",
    "\n",
    "Например, можно отправить такой запрос:\n",
    "\n",
    "https://en.wikipedia.org/w/api.php?action=query&list=categorymembers&cmtitle=Category:Physics&cmsort=timestamp&cmdir=desc&format=xmlfm\n",
    "\n",
    "Строка https://en.wikipedia.org/w/api.php (до знака вопроса) — это точка входа в API. Всё, что идёт после знака вопроса — это, собственно, запрос. Он представляет собой что-то вроде словаря и состоит из пар «ключ=значение», разделяемых амперсандом &. Некоторые символы приходится кодировать специальным образом.\n",
    "\n",
    "Например, в адресе выше сказано, что мы хотим сделать запрос (action=query), перечислить элементы категории list=categorymembers, в качестве категории, которая нас интересует, указана Category:Physics (cmtitle=Category:Physics) и указаны некоторые другие параметры. \n"
   ]
  },
  {
   "cell_type": "raw",
   "metadata": {},
   "source": [
    "Если кликнуть по ссылке, то получим следующее:\n",
    "\n",
    "<?xml version=\"1.0\"?>\n",
    "<api batchcomplete=\"\">\n",
    "  <continue cmcontinue=\"2019-06-11 00:26:12|976386\" continue=\"-||\" />\n",
    "  <query>\n",
    "    <categorymembers>\n",
    "      <cm pageid=\"43239622\" ns=\"0\" title=\"Physics education research\" />\n",
    "      <cm pageid=\"18726608\" ns=\"14\" title=\"Category:Physical quantities\" />\n",
    "      <cm pageid=\"62421802\" ns=\"0\" title=\"Perturbed angular correlation\" />\n",
    "      <cm pageid=\"62606505\" ns=\"0\" title=\"KTHNY theory\" />\n",
    "      <cm pageid=\"925607\" ns=\"14\" title=\"Category:Physics education\" />\n",
    "      <cm pageid=\"1310583\" ns=\"14\" title=\"Category:History of physics\" />\n",
    "      <cm pageid=\"62446002\" ns=\"0\" title=\"Chemical gardening\" />\n",
    "      <cm pageid=\"49740128\" ns=\"14\" title=\"Category:Subfields of physics\" />\n",
    "      <cm pageid=\"43474327\" ns=\"0\" title=\"Dollar (reactivity)\" />\n",
    "      <cm pageid=\"59478233\" ns=\"0\" title=\"Perpendicular paramagnetic bond\" />\n",
    "    </categorymembers>\n",
    "  </query>\n",
    "</api>"
   ]
  },
  {
   "cell_type": "raw",
   "metadata": {},
   "source": [
    "Нас интересуют теги <cm>, находящиеся внутри тега <categorymembers>. Сделаем соответствующий запрос, используя  модуль requests."
   ]
  },
  {
   "cell_type": "code",
   "execution_count": 24,
   "metadata": {},
   "outputs": [],
   "source": [
    "import requests "
   ]
  },
  {
   "cell_type": "code",
   "execution_count": 25,
   "metadata": {},
   "outputs": [],
   "source": [
    "url = \"https://en.wikipedia.org/w/api.php\"\n",
    "myparams = {\n",
    "    'action':'query',\n",
    "    'list':'categorymembers',\n",
    "    'cmtitle': 'Category:Physics',\n",
    "    'format': 'xml'\n",
    "}\n",
    "# список параметров передаем в виде обычного словаря\n",
    "\n",
    "g = requests.get(url, params=myparams)"
   ]
  },
  {
   "cell_type": "code",
   "execution_count": 26,
   "metadata": {},
   "outputs": [
    {
     "data": {
      "text/plain": [
       "True"
      ]
     },
     "execution_count": 26,
     "metadata": {},
     "output_type": "execute_result"
    }
   ],
   "source": [
    "g.ok"
   ]
  },
  {
   "cell_type": "code",
   "execution_count": 27,
   "metadata": {},
   "outputs": [],
   "source": [
    "mydata = BeautifulSoup(g.text, features='xml')"
   ]
  },
  {
   "cell_type": "code",
   "execution_count": 28,
   "metadata": {},
   "outputs": [
    {
     "name": "stdout",
     "output_type": "stream",
     "text": [
      "<?xml version=\"1.0\" encoding=\"utf-8\"?>\n",
      "<api batchcomplete=\"\">\n",
      " <continue cmcontinue=\"page|2f394d47314b4d3953310441312f395141011501dc14|51084847\" continue=\"-||\"/>\n",
      " <query>\n",
      "  <categorymembers>\n",
      "   <cm ns=\"0\" pageid=\"22939\" title=\"Physics\"/>\n",
      "   <cm ns=\"0\" pageid=\"24489\" title=\"Outline of physics\"/>\n",
      "   <cm ns=\"100\" pageid=\"1653925\" title=\"Portal:Physics\"/>\n",
      "   <cm ns=\"0\" pageid=\"55503653\" title=\"Camelback potential\"/>\n",
      "   <cm ns=\"0\" pageid=\"2664158\" title=\"Center of percussion\"/>\n",
      "   <cm ns=\"0\" pageid=\"62446002\" title=\"Chemical gardening\"/>\n",
      "   <cm ns=\"0\" pageid=\"48520204\" title=\"Computational anatomy\"/>\n",
      "   <cm ns=\"0\" pageid=\"53790076\" title=\"Conformon\"/>\n",
      "   <cm ns=\"0\" pageid=\"55823152\" title=\"Diffeomorphometry\"/>\n",
      "   <cm ns=\"0\" pageid=\"49885288\" title=\"Dirac membrane\"/>\n",
      "  </categorymembers>\n",
      " </query>\n",
      "</api>\n"
     ]
    }
   ],
   "source": [
    "print(mydata.prettify())"
   ]
  },
  {
   "cell_type": "code",
   "execution_count": 29,
   "metadata": {},
   "outputs": [
    {
     "name": "stdout",
     "output_type": "stream",
     "text": [
      "Physics\n",
      "Outline of physics\n",
      "Portal:Physics\n",
      "Camelback potential\n",
      "Center of percussion\n",
      "Chemical gardening\n",
      "Computational anatomy\n",
      "Conformon\n",
      "Diffeomorphometry\n",
      "Dirac membrane\n"
     ]
    }
   ],
   "source": [
    "#находим все вхождения тега <cm> и выведем их атрибут title:\n",
    "for cm in mydata(\"cm\"):\n",
    "    print(cm['title'])"
   ]
  },
  {
   "cell_type": "markdown",
   "metadata": {},
   "source": [
    "По умолчанию сервер вернул нам список из 10 элементов. Если мы хотим больше, нужно воспользоваться элементом continue — это своего рода гиперссылка на следующие 10 элементов."
   ]
  },
  {
   "cell_type": "code",
   "execution_count": 15,
   "metadata": {},
   "outputs": [
    {
     "data": {
      "text/plain": [
       "'page|2f394d47314b4d3953310441312f395141011501dc14|51084847'"
      ]
     },
     "execution_count": 15,
     "metadata": {},
     "output_type": "execute_result"
    }
   ],
   "source": [
    "mydata.find(\"continue\")['cmcontinue']"
   ]
  },
  {
   "cell_type": "code",
   "execution_count": 37,
   "metadata": {},
   "outputs": [],
   "source": [
    "myparams['cmcontinue'] = mydata.api(\"continue\")[0]['cmcontinue']"
   ]
  },
  {
   "cell_type": "code",
   "execution_count": 38,
   "metadata": {},
   "outputs": [
    {
     "name": "stdout",
     "output_type": "stream",
     "text": [
      "Random cluster model\n",
      "Riemannian metric and Lie bracket in computational anatomy\n",
      "Self-propulsion\n",
      "Solid-state physics\n",
      "Statistical mechanics\n",
      "Stochastic thermodynamics\n",
      "Surface growth\n",
      "Total position spread\n",
      "Category:Concepts in physics\n",
      "Category:Physics templates\n"
     ]
    }
   ],
   "source": [
    "g = requests.get(url, params=myparams)\n",
    "mydata = BeautifulSoup(g.text, features='xml')\n",
    "for cm in mydata(\"cm\"):\n",
    "    print(cm['title'])\n",
    "\n"
   ]
  },
  {
   "cell_type": "markdown",
   "metadata": {},
   "source": [
    "Аналогичным образом реализована работа с разнообразными другими API, имеющимися на разных сайтах. Где-то API является полностью открытым (как в Википедии), где-то вам потребуется зарегистрироваться и получить application id и какой-нибудь ключ для доступа к API, где-то попросят даже заплатить (например, автоматический поиск в Google). Всякий раз при использовании API вам придётся изучить его документацию, но это чаще всего проще, чем обрабатывать HTML-код. "
   ]
  },
  {
   "cell_type": "markdown",
   "metadata": {},
   "source": [
    "# Работа с API с помощью JSON¶"
   ]
  },
  {
   "cell_type": "markdown",
   "metadata": {},
   "source": [
    "В примере выше для получения информации от API использовался формат XML. Помимо XML существует другой распространённый формат хранения и передачи структурированной информации, называющийся JSON. JSON расшифровывается как JavaScript Object Notation и изначально возник как подмножество языка JavaScript, используемое для описания объектов, но впоследствии стал использоваться и в других языках программирования, включая Python. Различные API могут поддерживать либо XML, либо JSON, либо и то, и другое, так что полезно научиться работать с обоими типами данных. Рассмотрим пример чтения данных из Википедии как в прошлый раз, но будем использовать формат JSON, API MediaWiki это позволяет."
   ]
  },
  {
   "cell_type": "code",
   "execution_count": 39,
   "metadata": {},
   "outputs": [
    {
     "data": {
      "text/plain": [
       "True"
      ]
     },
     "execution_count": 39,
     "metadata": {},
     "output_type": "execute_result"
    }
   ],
   "source": [
    "url = \"https://en.wikipedia.org/w/api.php\"\n",
    "myparams = {\n",
    "    'action':'query',\n",
    "    'list':'categorymembers',\n",
    "    'cmtitle': 'Category:Physics',\n",
    "    'format': 'json' #меняется только формат\n",
    "}\n",
    "\n",
    "g = requests.get(url, params=myparams)\n",
    "g.ok"
   ]
  },
  {
   "cell_type": "code",
   "execution_count": 40,
   "metadata": {},
   "outputs": [
    {
     "data": {
      "text/plain": [
       "'{\"batchcomplete\":\"\",\"continue\":{\"cmcontinue\":\"page|2f394d47314b4d3953310441312f395141011501dc14|51084847\",\"continue\":\"-||\"},\"query\":{\"categorymembers\":[{\"pageid\":22939,\"ns\":0,\"title\":\"Physics\"},{\"pageid\":24489,\"ns\":0,\"title\":\"Outline of physics\"},{\"pageid\":1653925,\"ns\":100,\"title\":\"Portal:Physics\"},{\"pageid\":55503653,\"ns\":0,\"title\":\"Camelback potential\"},{\"pageid\":2664158,\"ns\":0,\"title\":\"Center of percussion\"},{\"pageid\":62446002,\"ns\":0,\"title\":\"Chemical gardening\"},{\"pageid\":48520204,\"ns\":0,\"title\":\"Computational anatomy\"},{\"pageid\":53790076,\"ns\":0,\"title\":\"Conformon\"},{\"pageid\":55823152,\"ns\":0,\"title\":\"Diffeomorphometry\"},{\"pageid\":49885288,\"ns\":0,\"title\":\"Dirac membrane\"}]}}'"
      ]
     },
     "execution_count": 40,
     "metadata": {},
     "output_type": "execute_result"
    }
   ],
   "source": [
    "g.text"
   ]
  },
  {
   "cell_type": "markdown",
   "metadata": {},
   "source": [
    "Полученный результат похож на описание объекта в Python и смысл квадратных и фигурных скобок такой же. Правда, есть и отличия: например, в Python одинарные и двойные кавычки ничем не отличаются, а в JSON можно использовать только двойные. Мы видим, что полученный нами JSON представляет собой словарь, значения которого — строки или числа, а также списки или словари, значения которых в свою очередь также могут быть строками, числами, списками, словарями и т.д. То есть получается такая довольно сложная структура данных.\n",
    "\n",
    "В данный момент тот факт, что перед нами сложная структура данных, видим только мы — с точки зрения Python, r.text это просто строка. Однако в модуле requests есть метод, позволяющий сразу выдать питоновский объект (словарь или список), если результат запроса возвращён в формате JSON. Так что нам не придётся использовать никакие дополнительные библиотеки."
   ]
  },
  {
   "cell_type": "code",
   "execution_count": 41,
   "metadata": {},
   "outputs": [
    {
     "data": {
      "text/plain": [
       "{'batchcomplete': '',\n",
       " 'continue': {'cmcontinue': 'page|2f394d47314b4d3953310441312f395141011501dc14|51084847',\n",
       "  'continue': '-||'},\n",
       " 'query': {'categorymembers': [{'pageid': 22939, 'ns': 0, 'title': 'Physics'},\n",
       "   {'pageid': 24489, 'ns': 0, 'title': 'Outline of physics'},\n",
       "   {'pageid': 1653925, 'ns': 100, 'title': 'Portal:Physics'},\n",
       "   {'pageid': 55503653, 'ns': 0, 'title': 'Camelback potential'},\n",
       "   {'pageid': 2664158, 'ns': 0, 'title': 'Center of percussion'},\n",
       "   {'pageid': 62446002, 'ns': 0, 'title': 'Chemical gardening'},\n",
       "   {'pageid': 48520204, 'ns': 0, 'title': 'Computational anatomy'},\n",
       "   {'pageid': 53790076, 'ns': 0, 'title': 'Conformon'},\n",
       "   {'pageid': 55823152, 'ns': 0, 'title': 'Diffeomorphometry'},\n",
       "   {'pageid': 49885288, 'ns': 0, 'title': 'Dirac membrane'}]}}"
      ]
     },
     "execution_count": 41,
     "metadata": {},
     "output_type": "execute_result"
    }
   ],
   "source": [
    "q = g.json()\n",
    "q"
   ]
  },
  {
   "cell_type": "code",
   "execution_count": 42,
   "metadata": {},
   "outputs": [
    {
     "data": {
      "text/plain": [
       "dict"
      ]
     },
     "execution_count": 42,
     "metadata": {},
     "output_type": "execute_result"
    }
   ],
   "source": [
    "type(q)"
   ]
  },
  {
   "cell_type": "markdown",
   "metadata": {},
   "source": [
    "Видим, что это словарь. Содержательная информация хранится по ключу 'query'. А уже внутри есть ключ 'categorymembers', значением которого является список всех категорий. Каждая категория отображается в виде словаря, записями которого являются разные параметры категории (например, 'title' соответствует названию, а pageid — внутреннему идентификатору в системе)."
   ]
  },
  {
   "cell_type": "code",
   "execution_count": 43,
   "metadata": {},
   "outputs": [
    {
     "data": {
      "text/plain": [
       "[{'pageid': 22939, 'ns': 0, 'title': 'Physics'},\n",
       " {'pageid': 24489, 'ns': 0, 'title': 'Outline of physics'},\n",
       " {'pageid': 1653925, 'ns': 100, 'title': 'Portal:Physics'},\n",
       " {'pageid': 55503653, 'ns': 0, 'title': 'Camelback potential'},\n",
       " {'pageid': 2664158, 'ns': 0, 'title': 'Center of percussion'},\n",
       " {'pageid': 62446002, 'ns': 0, 'title': 'Chemical gardening'},\n",
       " {'pageid': 48520204, 'ns': 0, 'title': 'Computational anatomy'},\n",
       " {'pageid': 53790076, 'ns': 0, 'title': 'Conformon'},\n",
       " {'pageid': 55823152, 'ns': 0, 'title': 'Diffeomorphometry'},\n",
       " {'pageid': 49885288, 'ns': 0, 'title': 'Dirac membrane'}]"
      ]
     },
     "execution_count": 43,
     "metadata": {},
     "output_type": "execute_result"
    }
   ],
   "source": [
    "q['query']['categorymembers']"
   ]
  },
  {
   "cell_type": "code",
   "execution_count": 44,
   "metadata": {},
   "outputs": [
    {
     "data": {
      "text/plain": [
       "list"
      ]
     },
     "execution_count": 44,
     "metadata": {},
     "output_type": "execute_result"
    }
   ],
   "source": [
    "type(q['query']['categorymembers'])"
   ]
  },
  {
   "cell_type": "code",
   "execution_count": 45,
   "metadata": {},
   "outputs": [
    {
     "data": {
      "text/plain": [
       "'Physics'"
      ]
     },
     "execution_count": 45,
     "metadata": {},
     "output_type": "execute_result"
    }
   ],
   "source": [
    "q['query']['categorymembers'][0]['title']"
   ]
  },
  {
   "cell_type": "code",
   "execution_count": 46,
   "metadata": {},
   "outputs": [
    {
     "name": "stdout",
     "output_type": "stream",
     "text": [
      "Physics\n",
      "Outline of physics\n",
      "Portal:Physics\n",
      "Camelback potential\n",
      "Center of percussion\n",
      "Chemical gardening\n",
      "Computational anatomy\n",
      "Conformon\n",
      "Diffeomorphometry\n",
      "Dirac membrane\n"
     ]
    }
   ],
   "source": [
    "for cm in q['query']['categorymembers']:\n",
    "    print(cm['title'])"
   ]
  },
  {
   "cell_type": "markdown",
   "metadata": {},
   "source": [
    "# Задание 2\n",
    "\n",
    "С помощью [API World Bank](https://datahelpdesk.worldbank.org/knowledgebase/articles/898590-api-country-queries), напишите функцию `get_capital(country_code)`, принимающую на вход ISO 3166-1 код государства и возвращающую название его столицы (в том виде, в котором оно возвращается этим API). Выполните задание с использованием как JSON, так и XML-интерфейса. Обратите внимание: код страны здесь надо передавать как часть URL."
   ]
  },
  {
   "cell_type": "code",
   "execution_count": 105,
   "metadata": {},
   "outputs": [],
   "source": [
    "# здесь написать рещение задания 2\n",
    "import requests\n",
    "from bs4 import BeautifulSoup\n",
    "def get_capital(country_code):\n",
    "    url = \"http://api.worldbank.org/v2/country/\" + country_code\n",
    "    a = requests.get(url)\n",
    "    bs = BeautifulSoup(a.content, features='xml')\n",
    "    return bs.capitalCity.string    \n",
    "# Это с помощью xml.\n",
    "\n",
    "def get_capital1(country_code):\n",
    "    url = \"http://api.worldbank.org/v2/country/\" + country_code\n",
    "    myparams = {'format': 'json'}\n",
    "    \n",
    "    a = requests.get(url, params=myparams)\n",
    "    json = a.json()\n",
    "    return json[1][0][\"capitalCity\"]     \n",
    "# Это с помощью json."
   ]
  },
  {
   "cell_type": "code",
   "execution_count": 106,
   "metadata": {},
   "outputs": [
    {
     "data": {
      "text/plain": [
       "'Moscow'"
      ]
     },
     "execution_count": 106,
     "metadata": {},
     "output_type": "execute_result"
    }
   ],
   "source": [
    "get_capital(\"rus\")"
   ]
  },
  {
   "cell_type": "markdown",
   "metadata": {},
   "source": [
    "### Проверьте себя"
   ]
  },
  {
   "cell_type": "code",
   "execution_count": 65,
   "metadata": {},
   "outputs": [
    {
     "data": {
      "text/plain": [
       "True"
      ]
     },
     "execution_count": 65,
     "metadata": {},
     "output_type": "execute_result"
    }
   ],
   "source": [
    "get_capital1(\"rus\") == 'Moscow'"
   ]
  },
  {
   "cell_type": "code",
   "execution_count": 66,
   "metadata": {},
   "outputs": [
    {
     "data": {
      "text/plain": [
       "True"
      ]
     },
     "execution_count": 66,
     "metadata": {},
     "output_type": "execute_result"
    }
   ],
   "source": [
    "get_capital1(\"usa\") == 'Washington D.C.'"
   ]
  },
  {
   "cell_type": "code",
   "execution_count": 67,
   "metadata": {},
   "outputs": [
    {
     "data": {
      "text/plain": [
       "True"
      ]
     },
     "execution_count": 67,
     "metadata": {},
     "output_type": "execute_result"
    }
   ],
   "source": [
    "get_capital1('bra') == 'Brasilia'"
   ]
  },
  {
   "cell_type": "code",
   "execution_count": 68,
   "metadata": {},
   "outputs": [
    {
     "data": {
      "text/plain": [
       "True"
      ]
     },
     "execution_count": 68,
     "metadata": {},
     "output_type": "execute_result"
    }
   ],
   "source": [
    "get_capital1('it') == 'Rome'"
   ]
  },
  {
   "cell_type": "markdown",
   "metadata": {},
   "source": [
    "# Задание 3\n",
    "\n",
    "На сайте http://dronestre.am собираются данные об ударах дронов США. У него есть простое API, позволяющее получить информацию о каждом ударе в виде JSON-файла. Адрес для API: http://api.dronestre.am/data\n",
    "\n",
    "Нужно собрать информацию о дате каждого удара, стране, числе смертей и описании произошедшего (narrative) и сохранить в  файле Excel (файл drones.xlsx - это образец того, что должно получиться)."
   ]
  },
  {
   "cell_type": "code",
   "execution_count": 75,
   "metadata": {},
   "outputs": [
    {
     "name": "stdout",
     "output_type": "stream",
     "text": [
      "{'_id': '55c79e711cbee48856a30886', 'number': 1, 'country': 'Yemen', 'date': '2002-11-03T00:00:00.000Z', 'narrative': 'In the first known US targeted assassination using a drone, a CIA Predator struck a car, killing 6 people.', 'town': '', 'location': 'Marib Province', 'deaths': '6', 'deaths_min': '6', 'deaths_max': '6', 'civilians': '0', 'injuries': '', 'children': '', 'tweet_id': '278544689483890688', 'bureau_id': 'YEM001', 'bij_summary_short': 'In the first known US targeted assassination using a drone, a CIA Predator struck a car killing six al Qaeda suspects.', 'bij_link': 'http://www.thebureauinvestigates.com/2012/03/29/yemen-reported-us-covert-actions-since-2001/', 'target': '', 'lat': '15.47467', 'lon': '45.322755', 'articles': [], 'names': [\"Qa'id Salim Sinan al-Harithi, Abu Ahmad al-Hijazi, Salih Hussain Ali al-Nunu, Awsan Ahmad al-Tarihi, Munir Ahmad Abdallah al-Sauda, Adil Nasir al-Sauda'\"]}\n"
     ]
    },
    {
     "data": {
      "text/html": [
       "<div>\n",
       "<style scoped>\n",
       "    .dataframe tbody tr th:only-of-type {\n",
       "        vertical-align: middle;\n",
       "    }\n",
       "\n",
       "    .dataframe tbody tr th {\n",
       "        vertical-align: top;\n",
       "    }\n",
       "\n",
       "    .dataframe thead th {\n",
       "        text-align: right;\n",
       "    }\n",
       "</style>\n",
       "<table border=\"1\" class=\"dataframe\">\n",
       "  <thead>\n",
       "    <tr style=\"text-align: right;\">\n",
       "      <th></th>\n",
       "      <th>date</th>\n",
       "      <th>country</th>\n",
       "      <th>deaths</th>\n",
       "      <th>narrative</th>\n",
       "    </tr>\n",
       "  </thead>\n",
       "  <tbody>\n",
       "    <tr>\n",
       "      <td>0</td>\n",
       "      <td>2002-11-03T00:00:00.000Z</td>\n",
       "      <td>Yemen</td>\n",
       "      <td>6</td>\n",
       "      <td>In the first known US targeted assassination u...</td>\n",
       "    </tr>\n",
       "    <tr>\n",
       "      <td>1</td>\n",
       "      <td>2004-06-17T00:00:00.000Z</td>\n",
       "      <td>Pakistan</td>\n",
       "      <td>6-8</td>\n",
       "      <td>The first known fatal US drone strike inside P...</td>\n",
       "    </tr>\n",
       "    <tr>\n",
       "      <td>2</td>\n",
       "      <td>2005-05-08T00:00:00.000Z</td>\n",
       "      <td>Pakistan</td>\n",
       "      <td>2</td>\n",
       "      <td>2 people killed in a Predator strike which rep...</td>\n",
       "    </tr>\n",
       "    <tr>\n",
       "      <td>3</td>\n",
       "      <td>2005-11-05T00:00:00.000Z</td>\n",
       "      <td>Pakistan</td>\n",
       "      <td>8</td>\n",
       "      <td>A failed strike destroyed Abu Hamza Rabia's ho...</td>\n",
       "    </tr>\n",
       "    <tr>\n",
       "      <td>4</td>\n",
       "      <td>2005-12-01T00:00:00.000Z</td>\n",
       "      <td>Pakistan</td>\n",
       "      <td>5</td>\n",
       "      <td>5 people were killed, including 2 children, wh...</td>\n",
       "    </tr>\n",
       "    <tr>\n",
       "      <td>...</td>\n",
       "      <td>...</td>\n",
       "      <td>...</td>\n",
       "      <td>...</td>\n",
       "      <td>...</td>\n",
       "    </tr>\n",
       "    <tr>\n",
       "      <td>642</td>\n",
       "      <td>2017-01-29T00:00:00.000Z</td>\n",
       "      <td>Yemen</td>\n",
       "      <td>39</td>\n",
       "      <td>Carnage is the word. U.S. drones and commandos...</td>\n",
       "    </tr>\n",
       "    <tr>\n",
       "      <td>643</td>\n",
       "      <td>2017-03-02T00:00:00.000Z</td>\n",
       "      <td>Pakistan</td>\n",
       "      <td>2</td>\n",
       "      <td>Two men were riding a motorcycle. A drone miss...</td>\n",
       "    </tr>\n",
       "    <tr>\n",
       "      <td>644</td>\n",
       "      <td>2017-03-02T00:00:00.000Z</td>\n",
       "      <td>Yemen</td>\n",
       "      <td>2-12</td>\n",
       "      <td>More than 20 air strikes--both drone and 'mann...</td>\n",
       "    </tr>\n",
       "    <tr>\n",
       "      <td>645</td>\n",
       "      <td>2017-03-02T00:00:00.000Z</td>\n",
       "      <td>Yemen</td>\n",
       "      <td>4</td>\n",
       "      <td>Abdul saw it all. \"The drone chased them.\" As ...</td>\n",
       "    </tr>\n",
       "    <tr>\n",
       "      <td>646</td>\n",
       "      <td>2017-03-06T00:00:00.000Z</td>\n",
       "      <td>Yemen</td>\n",
       "      <td>2</td>\n",
       "      <td>Two brothers--Ahmed and Mohammed--were walking...</td>\n",
       "    </tr>\n",
       "  </tbody>\n",
       "</table>\n",
       "<p>647 rows × 4 columns</p>\n",
       "</div>"
      ],
      "text/plain": [
       "                         date   country deaths  \\\n",
       "0    2002-11-03T00:00:00.000Z     Yemen      6   \n",
       "1    2004-06-17T00:00:00.000Z  Pakistan    6-8   \n",
       "2    2005-05-08T00:00:00.000Z  Pakistan      2   \n",
       "3    2005-11-05T00:00:00.000Z  Pakistan      8   \n",
       "4    2005-12-01T00:00:00.000Z  Pakistan      5   \n",
       "..                        ...       ...    ...   \n",
       "642  2017-01-29T00:00:00.000Z     Yemen     39   \n",
       "643  2017-03-02T00:00:00.000Z  Pakistan      2   \n",
       "644  2017-03-02T00:00:00.000Z     Yemen   2-12   \n",
       "645  2017-03-02T00:00:00.000Z     Yemen      4   \n",
       "646  2017-03-06T00:00:00.000Z     Yemen      2   \n",
       "\n",
       "                                             narrative  \n",
       "0    In the first known US targeted assassination u...  \n",
       "1    The first known fatal US drone strike inside P...  \n",
       "2    2 people killed in a Predator strike which rep...  \n",
       "3    A failed strike destroyed Abu Hamza Rabia's ho...  \n",
       "4    5 people were killed, including 2 children, wh...  \n",
       "..                                                 ...  \n",
       "642  Carnage is the word. U.S. drones and commandos...  \n",
       "643  Two men were riding a motorcycle. A drone miss...  \n",
       "644  More than 20 air strikes--both drone and 'mann...  \n",
       "645  Abdul saw it all. \"The drone chased them.\" As ...  \n",
       "646  Two brothers--Ahmed and Mohammed--were walking...  \n",
       "\n",
       "[647 rows x 4 columns]"
      ]
     },
     "execution_count": 75,
     "metadata": {},
     "output_type": "execute_result"
    }
   ],
   "source": [
    "#здесь написать решение задания 3\n",
    "url = \"http://api.dronestre.am/data\"\n",
    "a = requests.get(url, params = {'format' : 'json'})\n",
    "page = a.json()\n",
    "import pandas as pd\n",
    "\n",
    "print(page['strike'][0])\n",
    "data = []\n",
    "for item in page['strike']:\n",
    "    helper = []\n",
    "    helper += [item[\"date\"]]\n",
    "    helper += [item[\"country\"]]\n",
    "    helper += [item[\"deaths\"]]\n",
    "    helper += [item[\"narrative\"]]\n",
    "    data += [helper]\n",
    "df = pd.DataFrame(data)\n",
    "df.columns = [\"date\",\"country\", \"deaths\", \"narrative\"]\n",
    "df\n",
    "    \n",
    "    \n",
    "    \n"
   ]
  },
  {
   "cell_type": "markdown",
   "metadata": {},
   "source": [
    "# Задание 4\n",
    "\n",
    "С помощью API Google Books можно получать информацию о различных книгах. Например, вот так можно получить данные по книге по её ISBN: https://www.googleapis.com/books/v1/volumes?q=isbn:9785699648146. Напишите функцию book_table(isbn), принимающую на вход один ISBN и возвращающую информацию в следующем формате:\n",
    "\n",
    "`\n",
    "Название: Над пропастью во ржи\n",
    "Авторы: Джером Д Сэлинджер\n",
    "Язык: ru\n",
    "Число страниц: 332`"
   ]
  },
  {
   "cell_type": "code",
   "execution_count": 100,
   "metadata": {},
   "outputs": [],
   "source": [
    "#здесь написать решение задания 4\n",
    "def book_table(isbn):\n",
    "    url = \"https://www.googleapis.com/books/v1/volumes?q=isbn:\" + str(isbn)\n",
    "    page = requests.get(url).json()\n",
    "    print(f\"Название: {page['items'][0]['volumeInfo']['title']}\")\n",
    "    print(f\"Авторы: {', '.join(page['items'][0]['volumeInfo']['authors'])}\" )\n",
    "    print(f\"Язык: {page['items'][0]['volumeInfo']['language']}\")\n",
    "    \n",
    "    "
   ]
  },
  {
   "cell_type": "markdown",
   "metadata": {},
   "source": [
    "### Проверьте себя"
   ]
  },
  {
   "cell_type": "code",
   "execution_count": 101,
   "metadata": {},
   "outputs": [
    {
     "name": "stdout",
     "output_type": "stream",
     "text": [
      "Название: Artificial Intelligence\n",
      "Авторы: Stuart Russell, Peter Norvig\n",
      "Язык: en\n"
     ]
    }
   ],
   "source": [
    "book_table(9781292153964) #Artificial Intelligence"
   ]
  },
  {
   "cell_type": "code",
   "execution_count": 85,
   "metadata": {},
   "outputs": [
    {
     "name": "stdout",
     "output_type": "stream",
     "text": [
      "books#volumes\n"
     ]
    }
   ],
   "source": [
    "book_table(9780262035613) #Deep Learning"
   ]
  },
  {
   "cell_type": "code",
   "execution_count": 86,
   "metadata": {},
   "outputs": [
    {
     "name": "stdout",
     "output_type": "stream",
     "text": [
      "books#volumes\n"
     ]
    }
   ],
   "source": [
    "book_table(9785457499850) #Вино из одуванчиков"
   ]
  },
  {
   "cell_type": "markdown",
   "metadata": {},
   "source": [
    "# Задание 5 (необязательное)"
   ]
  },
  {
   "cell_type": "markdown",
   "metadata": {},
   "source": [
    "Используя GitHub API выведите ссылки на все public репозитории пользователя. Предполагается, что вы знаете логин и пароль пользователя на GitHub."
   ]
  },
  {
   "cell_type": "code",
   "execution_count": null,
   "metadata": {},
   "outputs": [],
   "source": [
    "#здесь написать решение задания 5\n",
    "import requests\n",
    "from getpass import getpass\n",
    "username = 'studhse@gmail.com'\n",
    "password = '123456'\n",
    "repos = requests.get('https://api.github.com/user/repos', auth=(username, password))\n",
    "repos.json()"
   ]
  },
  {
   "cell_type": "markdown",
   "metadata": {},
   "source": [
    "_Источник: nbviewer.math-hse.info/github/ischurov/pythonhse/tree/master, wiki.cs.hse.ru_"
   ]
  }
 ],
 "metadata": {
  "kernelspec": {
   "display_name": "Python 3",
   "language": "python",
   "name": "python3"
  },
  "language_info": {
   "codemirror_mode": {
    "name": "ipython",
    "version": 3
   },
   "file_extension": ".py",
   "mimetype": "text/x-python",
   "name": "python",
   "nbconvert_exporter": "python",
   "pygments_lexer": "ipython3",
   "version": "3.7.4"
  }
 },
 "nbformat": 4,
 "nbformat_minor": 4
}
